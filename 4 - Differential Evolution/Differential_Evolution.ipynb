{
 "cells": [
  {
   "cell_type": "markdown",
   "metadata": {},
   "source": [
    "# [ELE 083] Computação Evolucionária: Trabalho Prático 3\n",
    "__Aluno:__\n",
    "- Hernane Braga Pereira - 2014112627\n",
    "\n",
    "---\n",
    "# Enunciado\n",
    "\n",
    "Testar o código do Algoritmo de Evolução Diferencial para os seguintes problemas multimodais de otimização continua:\n",
    "\n",
    "- **Rastrigin**: para -2 <= x1 <= 2, -2 <= x2 <= 3 com N = 100; mínimo global em\n",
    "x\\*=[0, 0] com f(x*) = -20.\n",
    "\n",
    "- **Peaks**: para -3 <= x1 <= 3, -3 <= x2 <= 3 com N = 100; mínimo global em\n",
    "x\\*=[0.228,­1.625] com f(x*) = -6.5511."
   ]
  },
  {
   "cell_type": "code",
   "execution_count": 1,
   "metadata": {},
   "outputs": [],
   "source": [
    "import numpy as np\n",
    "from matplotlib import pyplot as plt"
   ]
  },
  {
   "cell_type": "code",
   "execution_count": 2,
   "metadata": {},
   "outputs": [],
   "source": [
    "def rastrigin(x):\n",
    "    Q = np.identity(len(x))\n",
    "    X = Q @ x\n",
    "    n = len(x)\n",
    "    F = 0\n",
    "\n",
    "    for i in range(n):\n",
    "        F = F + X[i] ** 2 - 10 * np.cos(2 * np.pi * X[i])\n",
    "    return F\n"
   ]
  },
  {
   "cell_type": "code",
   "execution_count": 3,
   "metadata": {},
   "outputs": [],
   "source": [
    "def peaks(X):\n",
    "    x = X[0]\n",
    "    y = X[1]\n",
    "    exp_1 = 3 * (1 - x) ** 2 * np.exp(- (x ** 2) - (y + 1) ** 2)\n",
    "    exp_2 = 10 * (x / 5 - x ** 3 - y ** 5) * np.exp(-(x ** 2) - (y ** 2))\n",
    "    exp_3 = (1 / 3) * np.exp(-(x + 1) ** 2 - (y ** 2))\n",
    "    return exp_1 - exp_2 - exp_3"
   ]
  },
  {
   "cell_type": "code",
   "execution_count": 4,
   "metadata": {},
   "outputs": [
    {
     "name": "stdout",
     "output_type": "stream",
     "text": [
      "Rastrigin function minimum global:\n",
      "-20.0\n",
      "\n",
      "\n",
      "Peaks function minimum global:\n"
     ]
    },
    {
     "data": {
      "text/plain": [
       "-6.551127887452801"
      ]
     },
     "execution_count": 4,
     "metadata": {},
     "output_type": "execute_result"
    }
   ],
   "source": [
    "print('Rastrigin function minimum global:')\n",
    "print(rastrigin([0, 0]))\n",
    "\n",
    "print('\\n\\nPeaks function minimum global:')\n",
    "peaks([0.228, -1.625])"
   ]
  },
  {
   "cell_type": "markdown",
   "metadata": {},
   "source": [
    "# Algoritmo de evolução diferencial\n",
    "## Iniciando população\n",
    "\n",
    "Função `init_population` que inicia uma matriz dentro do range proposto no problema"
   ]
  },
  {
   "cell_type": "code",
   "execution_count": 5,
   "metadata": {},
   "outputs": [],
   "source": [
    "def init_population(low_values, high_values, n_pop):\n",
    "    \"\"\" \n",
    "        Start Differencial Evolution Algorithm population\n",
    "        ------\n",
    "        Parameters:\n",
    "            low_values: min value for each variable of the problem\n",
    "            high_values: max value for each variable of the problem\n",
    "            n_pop: Number of solutions on population\n",
    "        ------\n",
    "        Return: numpy ndarray\n",
    "            inicial random population\n",
    "    \"\"\"\n",
    "    population = np.random.uniform(low=low_values, high=high_values, size=(n_pop, len(low_values)))\n",
    "    return population"
   ]
  },
  {
   "cell_type": "code",
   "execution_count": 6,
   "metadata": {},
   "outputs": [
    {
     "data": {
      "text/plain": [
       "array([[ 0.05048869, -1.83512468],\n",
       "       [-1.26582889,  0.35594389],\n",
       "       [ 1.01082151,  1.54249344],\n",
       "       [-0.44679009, -1.75880679],\n",
       "       [-0.16137925,  0.20793424]])"
      ]
     },
     "execution_count": 6,
     "metadata": {},
     "output_type": "execute_result"
    }
   ],
   "source": [
    "low_values = [-2, -2]\n",
    "high_values = [2, 2]\n",
    "n_pop = 5\n",
    "population = init_population(low_values, high_values, n_pop)\n",
    "population"
   ]
  },
  {
   "cell_type": "markdown",
   "metadata": {},
   "source": [
    "## Mutação\n",
    "Função `mutation` recebe uma solução inicial de base e outras duas que formará o vetor de diferença. O vetor de mutação é formado à partir do vetor de diferença e o fator de escala F."
   ]
  },
  {
   "cell_type": "code",
   "execution_count": 7,
   "metadata": {},
   "outputs": [],
   "source": [
    "def mutation(base_vector, A_vector, B_vector, F):\n",
    "    \"\"\" \n",
    "        Apply mutation on a base vector\n",
    "        ------\n",
    "        Parameters:\n",
    "            base_vector: base vector to sum the difference vector\n",
    "            A_vector: First vector to apply difference\n",
    "            B_vector: Second vector to apply difference\n",
    "            F: scale vector\n",
    "        ------\n",
    "        Return: numpy ndarray\n",
    "            Mutation vector \n",
    "    \"\"\"\n",
    "    diff_vector = F*(A_vector - B_vector)\n",
    "    mutation_vector = base_vector + (diff_vector)\n",
    "    return mutation_vector"
   ]
  },
  {
   "cell_type": "code",
   "execution_count": 8,
   "metadata": {},
   "outputs": [
    {
     "name": "stdout",
     "output_type": "stream",
     "text": [
      "base vector: [ 0.05048869 -1.83512468]\n",
      "A vector: [-1.26582889  0.35594389]\n",
      "B vector: [1.01082151 1.54249344]\n",
      "\n",
      "diff_vector: [-2.2766504  -1.18654955] \tF: [0.76409595]\n",
      "\n",
      "mutation_vector: [-1.68909066 -2.74176238]\n"
     ]
    }
   ],
   "source": [
    "F = np.random.uniform(low=0.7, high=0.9, size=1)\n",
    "base_vector = population[0]\n",
    "A_vector = population[1]\n",
    "B_vector = population[2]\n",
    "diff_vector = F*(A_vector - B_vector)\n",
    "\n",
    "mutation_vector = mutation(base_vector, A_vector, B_vector, F)\n",
    "print('base vector:', base_vector)\n",
    "print('A vector:', A_vector)\n",
    "print('B vector:', B_vector)\n",
    "print('\\ndiff_vector:',A_vector-B_vector,'\\tF:', F)\n",
    "print('\\nmutation_vector:', mutation_vector)\n"
   ]
  },
  {
   "cell_type": "markdown",
   "metadata": {},
   "source": [
    "## Recombinação\n",
    "Na função `recombination`, o vetor de mutação e a solução original são combinadas à partir de um fator de combinação C "
   ]
  },
  {
   "cell_type": "code",
   "execution_count": 9,
   "metadata": {},
   "outputs": [],
   "source": [
    "def recombination(base_vector, mutation_vector, C):\n",
    "    \"\"\" \n",
    "        Recombine the base vector and mutation vector\n",
    "        ------\n",
    "        Parameters:\n",
    "            base_vector: base vector to recombine solutions\n",
    "            mutation_vector: mutation based vector\n",
    "            C: recombination probability\n",
    "        ------\n",
    "        Return: numpy ndarray\n",
    "            Child vector \n",
    "    \"\"\"\n",
    "    children = mutation_vector.copy()\n",
    "    rdn = np.random.uniform(0,1)\n",
    "    if(rdn > C): children[1] = base_vector[1]\n",
    "    return children"
   ]
  },
  {
   "cell_type": "code",
   "execution_count": 10,
   "metadata": {},
   "outputs": [
    {
     "name": "stdout",
     "output_type": "stream",
     "text": [
      "base vector: [ 0.05048869 -1.83512468]\n",
      "mutation vector: [-1.68909066 -2.74176238]\n",
      "C: [0.61909524]\n",
      "\n",
      "child: [-1.68909066 -2.74176238]\n"
     ]
    }
   ],
   "source": [
    "base_vector = population[0]\n",
    "mutation_vector = mutation_vector\n",
    "C = np.random.uniform(low=0.6, high=0.9, size=1)\n",
    "child = recombination(base_vector, mutation_vector, C)\n",
    "print('base vector:', base_vector)\n",
    "print('mutation vector:', mutation_vector)\n",
    "print('C:', C)\n",
    "print('\\nchild:', child)\n"
   ]
  },
  {
   "cell_type": "markdown",
   "metadata": {},
   "source": [
    "## Seleção\n",
    "Dentro da função de evolução diferencial, o menor valor entre a solução pai e filho é escolhido"
   ]
  },
  {
   "cell_type": "code",
   "execution_count": 11,
   "metadata": {},
   "outputs": [
    {
     "name": "stdout",
     "output_type": "stream",
     "text": [
      "base vector: [ 0.05048869 -1.83512468] \tfit: -11.227955417322804\n",
      "child vector: [-1.68909066 -2.74176238] \tfit: 14.621950907536277\n",
      "\n",
      "solution selected: [ 0.05048869 -1.83512468]\n"
     ]
    }
   ],
   "source": [
    "new_population = np.empty(population.shape)\n",
    "\n",
    "func = rastrigin\n",
    "base_fit = func(base_vector)\n",
    "child_fit = func(child)\n",
    "\n",
    "print('base vector:', base_vector, '\\tfit:', base_fit)\n",
    "print('child vector:', child, '\\tfit:', child_fit)\n",
    "\n",
    "if(base_fit <= child_fit): new_population[0,:] = base_vector\n",
    "else: new_population[0,:] = child\n",
    "\n",
    "    \n",
    "print('\\nsolution selected:', new_population[0,:])    \n"
   ]
  },
  {
   "cell_type": "markdown",
   "metadata": {},
   "source": [
    "## Algoritmo de evolução diferencial\n",
    "Função final `differential_evolution` que executa todos os passos do algoritmo:\n",
    "\n",
    "1. inicializa população;\n",
    "2. gera mutações;\n",
    "3. recombina mutações com população;\n",
    "4. escolhe os melhores entre pais e filhos para a próxima geração;\n",
    "5. repete procedimento até fim das gerações;"
   ]
  },
  {
   "cell_type": "code",
   "execution_count": 12,
   "metadata": {},
   "outputs": [],
   "source": [
    "def differential_evolution(param, func):\n",
    "    \"\"\" \n",
    "        Differential Evolution optimization algorithm\n",
    "        ------\n",
    "        Parameters:\n",
    "            param: dictionary containing parameters\n",
    "            func: function to be optimiz\n",
    "            C: recombination probability\n",
    "        ------\n",
    "        Return: numpy ndarray\n",
    "            Child vector \n",
    "    \"\"\"\n",
    "    # Decoding parameters from dictionary\n",
    "    n_pop = param['n_pop']\n",
    "    max_generations = param['max_generations']\n",
    "    low_values, high_values = param['low_values'], param['high_values']\n",
    "     \n",
    "    F_min, F_max = param['F_min'], param['F_max']\n",
    "    C_min, C_max = param['C_min'], param['C_max']\n",
    "\n",
    "    mean_fit = np.empty(max_generations)\n",
    "    min_fit = np.empty(max_generations)\n",
    "    max_fit = np.empty(max_generations)\n",
    "    \n",
    "    MIN = np.inf\n",
    "    final_solution = None \n",
    "\n",
    "    population = init_population(low_values, high_values, n_pop)\n",
    "    \n",
    "    for g in np.arange(max_generations):\n",
    "        generation_fit = np.empty(population.shape[0])\n",
    "        new_population = np.empty(population.shape)\n",
    "\n",
    "        for i in np.arange(population.shape[0]):\n",
    "            base_vector = population[i,:]\n",
    "\n",
    "            # Mutation \n",
    "            possible_set = set(range(n_pop))\n",
    "            possible_set.remove(i)\n",
    "            r = np.random.randint(len(possible_set))\n",
    "            r2 = list(possible_set)[r]\n",
    "            possible_set.remove(r2)\n",
    "            r = np.random.randint(len(possible_set))\n",
    "            r3 = list(possible_set)[r]\n",
    "\n",
    "            F = np.random.uniform(low=F_min, high=F_max, size=1)\n",
    "            mutation_vector = mutation(base_vector, population[r2,:], population[r3,:], F)\n",
    "\n",
    "            # Recombination\n",
    "            C = np.random.uniform(low=C_min, high=C_max, size=1)\n",
    "            child = recombination(base_vector, mutation_vector, C)\n",
    "\n",
    "            # Selection\n",
    "            base_fit = func(base_vector)\n",
    "            child_fit = func(child)\n",
    "\n",
    "            if(base_fit <= child_fit):\n",
    "                new_population[i,:] = base_vector\n",
    "                generation_fit[i] = base_fit\n",
    "            else: \n",
    "                new_population[i,:] = child\n",
    "                generation_fit[i] = child_fit\n",
    "\n",
    "            if(generation_fit[i] <= MIN):\n",
    "                MIN = generation_fit[i]\n",
    "                final_solution = new_population[i,:].copy()\n",
    "\n",
    "        population = new_population.copy()\n",
    "\n",
    "        # Saving fit values for plot\n",
    "        min_fit[g] = generation_fit.min()\n",
    "        max_fit[g] = generation_fit.max()\n",
    "        mean_fit[g] = generation_fit.mean()\n",
    "\n",
    "    result = {'final_solution': final_solution,\n",
    "             'final_fit': MIN,\n",
    "             'min_fit' : min_fit,\n",
    "             'max_fit' : max_fit,\n",
    "             'mean_fit' : mean_fit\n",
    "             }\n",
    "\n",
    "    return result"
   ]
  },
  {
   "cell_type": "code",
   "execution_count": 13,
   "metadata": {},
   "outputs": [],
   "source": [
    "def show_result(result):\n",
    "    min_fit, max_fit, mean_fit = result['min_fit'], result['max_fit'], result['mean_fit']\n",
    "\n",
    "    plt.subplots(figsize=(15,4)), plt.title('Fit over generations')\n",
    "\n",
    "    plt.plot(min_fit, label='min fit')\n",
    "    plt.plot(max_fit, label='max fit')\n",
    "    plt.plot(mean_fit, label='mean fit')\n",
    "\n",
    "    plt.ylabel('Fit'), plt.xlabel('Generations'), plt.legend()\n",
    "    plt.show()\n",
    "    \n",
    "    print('\\n\\t\\tFinal Solution:', result['final_solution'], '\\tfit:',result['final_fit'])"
   ]
  },
  {
   "cell_type": "markdown",
   "metadata": {},
   "source": [
    "## Função rastrigin\n",
    "\n",
    "**$min f(x) = -20$**\n",
    "\n",
    "Resultado do algoritmo de otimização para a função rastrigin"
   ]
  },
  {
   "cell_type": "code",
   "execution_count": 14,
   "metadata": {},
   "outputs": [],
   "source": [
    "param = {'low_values' : [-2, -2],\n",
    "         'high_values' : [2, 2],\n",
    "         'n_pop' : 100,\n",
    "         'max_generations': 100,\n",
    "         'F_min': 0.7,\n",
    "         'F_max': 0.9,\n",
    "         'C_min': 0.6,\n",
    "         'C_max': 0.9\n",
    "        }\n",
    "\n",
    "result = differential_evolution(param, rastrigin)"
   ]
  },
  {
   "cell_type": "code",
   "execution_count": 15,
   "metadata": {},
   "outputs": [
    {
     "data": {
      "image/png": "[encoded data removed]",
      "text/plain": [
       "<Figure size 1080x288 with 1 Axes>"
      ]
     },
     "metadata": {
      "needs_background": "light"
     },
     "output_type": "display_data"
    },
    {
     "name": "stdout",
     "output_type": "stream",
     "text": [
      "\n",
      "\t\tFinal Solution: [-0.00036097  0.00354584] \tfit: -19.99747987239016\n"
     ]
    }
   ],
   "source": [
    "show_result(result)"
   ]
  },
  {
   "cell_type": "markdown",
   "metadata": {},
   "source": [
    "## Função peaks\n",
    "**$min f(x) = -6.551127887452801$**"
   ]
  },
  {
   "cell_type": "code",
   "execution_count": 16,
   "metadata": {},
   "outputs": [],
   "source": [
    "param = {'low_values' : [-3, -3],\n",
    "         'high_values' : [3, 3],\n",
    "         'n_pop' : 100,\n",
    "         'max_generations': 100,\n",
    "         'F_min': 0.7,\n",
    "         'F_max': 0.9,\n",
    "         'C_min': 0.6,\n",
    "         'C_max': 0.9\n",
    "        }\n",
    "\n",
    "result = differential_evolution(param, peaks)"
   ]
  },
  {
   "cell_type": "code",
   "execution_count": 17,
   "metadata": {},
   "outputs": [
    {
     "data": {
      "image/png": "[encoded data removed]",
      "text/plain": [
       "<Figure size 1080x288 with 1 Axes>"
      ]
     },
     "metadata": {
      "needs_background": "light"
     },
     "output_type": "display_data"
    },
    {
     "name": "stdout",
     "output_type": "stream",
     "text": [
      "\n",
      "\t\tFinal Solution: [ 0.22501734 -1.62676615] \tfit: -6.551024406533188\n"
     ]
    }
   ],
   "source": [
    "show_result(result)"
   ]
  }
 ],
 "metadata": {
  "kernelspec": {
   "display_name": "Python 3",
   "language": "python",
   "name": "python3"
  },
  "language_info": {
   "codemirror_mode": {
    "name": "ipython",
    "version": 3
   },
   "file_extension": ".py",
   "mimetype": "text/x-python",
   "name": "python",
   "nbconvert_exporter": "python",
   "pygments_lexer": "ipython3",
   "version": "3.7.7"
  },
  "latex_envs": {
   "LaTeX_envs_menu_present": true,
   "autoclose": false,
   "autocomplete": true,
   "bibliofile": "biblio.bib",
   "cite_by": "apalike",
   "current_citInitial": 1,
   "eqLabelWithNumbers": true,
   "eqNumInitial": 1,
   "hotkeys": {
    "equation": "Ctrl-E",
    "itemize": "Ctrl-I"
   },
   "labels_anchors": false,
   "latex_user_defs": false,
   "report_style_numbering": false,
   "user_envs_cfg": false
  },
  "toc": {
   "base_numbering": 1,
   "nav_menu": {},
   "number_sections": true,
   "sideBar": true,
   "skip_h1_title": true,
   "title_cell": "Table of Contents",
   "title_sidebar": "Contents",
   "toc_cell": false,
   "toc_position": {},
   "toc_section_display": true,
   "toc_window_display": false
  }
 },
 "nbformat": 4,
 "nbformat_minor": 4
}
