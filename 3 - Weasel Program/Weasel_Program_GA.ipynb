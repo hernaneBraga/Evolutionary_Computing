{
 "cells": [
  {
   "cell_type": "markdown",
   "metadata": {
    "toc": true
   },
   "source": [
    "<h1>Sumário<span class=\"tocSkip\"></span></h1>\n",
    "<div class=\"toc\"><ul class=\"toc-item\"><li><span><a href=\"#[Parte-1]-Definindo-funções\" data-toc-modified-id=\"[Parte-1]-Definindo-funções-1\"><span class=\"toc-item-num\">1&nbsp;&nbsp;</span>[Parte 1] Definindo funções</a></span><ul class=\"toc-item\"><li><span><a href=\"#Definindo-estrutura-de-representação-do-problema\" data-toc-modified-id=\"Definindo-estrutura-de-representação-do-problema-1.1\"><span class=\"toc-item-num\">1.1&nbsp;&nbsp;</span>Definindo estrutura de representação do problema</a></span><ul class=\"toc-item\"><li><span><a href=\"#Definindo-espaço-amostral\" data-toc-modified-id=\"Definindo-espaço-amostral-1.1.1\"><span class=\"toc-item-num\">1.1.1&nbsp;&nbsp;</span>Definindo espaço amostral</a></span></li><li><span><a href=\"#Representando-dígitos-como-valores-da-tabela-ASC-II\" data-toc-modified-id=\"Representando-dígitos-como-valores-da-tabela-ASC-II-1.1.2\"><span class=\"toc-item-num\">1.1.2&nbsp;&nbsp;</span>Representando dígitos como valores da tabela ASC II</a></span></li><li><span><a href=\"#Função-start_problem\" data-toc-modified-id=\"Função-start_problem-1.1.3\"><span class=\"toc-item-num\">1.1.3&nbsp;&nbsp;</span>Função <code>start_problem</code></a></span></li></ul></li><li><span><a href=\"#Inicializando-o-problema-com-solução-aleatória\" data-toc-modified-id=\"Inicializando-o-problema-com-solução-aleatória-1.2\"><span class=\"toc-item-num\">1.2&nbsp;&nbsp;</span>Inicializando o problema com solução aleatória</a></span></li><li><span><a href=\"#Função-de-fit\" data-toc-modified-id=\"Função-de-fit-1.3\"><span class=\"toc-item-num\">1.3&nbsp;&nbsp;</span>Função de fit</a></span></li><li><span><a href=\"#Seleção-de-pais\" data-toc-modified-id=\"Seleção-de-pais-1.4\"><span class=\"toc-item-num\">1.4&nbsp;&nbsp;</span>Seleção de pais</a></span><ul class=\"toc-item\"><li><span><a href=\"#Aplicando-rank-no-fit--da-população\" data-toc-modified-id=\"Aplicando-rank-no-fit--da-população-1.4.1\"><span class=\"toc-item-num\">1.4.1&nbsp;&nbsp;</span>Aplicando rank no fit  da população</a></span></li><li><span><a href=\"#Aplicando-transformação-lienar-no-rank-da-população\" data-toc-modified-id=\"Aplicando-transformação-lienar-no-rank-da-população-1.4.2\"><span class=\"toc-item-num\">1.4.2&nbsp;&nbsp;</span>Aplicando transformação lienar no rank da população</a></span></li><li><span><a href=\"#Seleção-de-solução-usando-roleta-de-seleção\" data-toc-modified-id=\"Seleção-de-solução-usando-roleta-de-seleção-1.4.3\"><span class=\"toc-item-num\">1.4.3&nbsp;&nbsp;</span>Seleção de solução usando roleta de seleção</a></span></li><li><span><a href=\"#Escolhendo-pais-para-procriação\" data-toc-modified-id=\"Escolhendo-pais-para-procriação-1.4.4\"><span class=\"toc-item-num\">1.4.4&nbsp;&nbsp;</span>Escolhendo pais para procriação</a></span></li></ul></li><li><span><a href=\"#Cruzamento\" data-toc-modified-id=\"Cruzamento-1.5\"><span class=\"toc-item-num\">1.5&nbsp;&nbsp;</span>Cruzamento</a></span></li><li><span><a href=\"#Mutação\" data-toc-modified-id=\"Mutação-1.6\"><span class=\"toc-item-num\">1.6&nbsp;&nbsp;</span>Mutação</a></span></li><li><span><a href=\"#Seleção-de-sobreviventes\" data-toc-modified-id=\"Seleção-de-sobreviventes-1.7\"><span class=\"toc-item-num\">1.7&nbsp;&nbsp;</span>Seleção de sobreviventes</a></span></li><li><span><a href=\"#Algortimo-genético\" data-toc-modified-id=\"Algortimo-genético-1.8\"><span class=\"toc-item-num\">1.8&nbsp;&nbsp;</span>Algortimo genético</a></span></li></ul></li><li><span><a href=\"#[Parte-2]-Experimentos\" data-toc-modified-id=\"[Parte-2]-Experimentos-2\"><span class=\"toc-item-num\">2&nbsp;&nbsp;</span>[Parte 2] Experimentos</a></span><ul class=\"toc-item\"><li><span><a href=\"#Experimento-[1]-Chance-de-mutação-=-{0,-0.3,-0.5,-0.7,-1}\" data-toc-modified-id=\"Experimento-[1]-Chance-de-mutação-=-{0,-0.3,-0.5,-0.7,-1}-2.1\"><span class=\"toc-item-num\">2.1&nbsp;&nbsp;</span>Experimento [1] Chance de mutação = {0, 0.3, 0.5, 0.7, 1}</a></span></li><li><span><a href=\"#Experimento-[2]-mudança-no-número-de-filhos-=-{20,-50,-200,-500,-1200.-1500}\" data-toc-modified-id=\"Experimento-[2]-mudança-no-número-de-filhos-=-{20,-50,-200,-500,-1200.-1500}-2.2\"><span class=\"toc-item-num\">2.2&nbsp;&nbsp;</span>Experimento [2] mudança no número de filhos = {20, 50, 200, 500, 1200. 1500}</a></span></li></ul></li></ul></div>"
   ]
  },
  {
   "cell_type": "markdown",
   "metadata": {},
   "source": [
    "# [ELE 083] Computação Evolucionária: Trabalho Prático 2\n",
    "\n",
    "- Hernane Braga Pereira - 2014112627\n",
    "\n",
    "---\n",
    "# Enunciado\n",
    "\n",
    "Projete um Algoritmo Genético que evolui uma população de strings até convergir para a\n",
    "seguinte string:\n",
    "\n",
    "\n",
    "<br><center> $METHINKS*IT*IS*LIKE*A*WEASEL$ </center>\n",
    "\n",
    "\n",
    "__Pergunta:__ Assumindo que apenas o caracter de espaço (representado por *), letras maísculas e dígitos são permitidos, calcule a dimensão do espaço de busca para esse problema. Qual a probabilidade de uma string gerada aleatoriamente ser exatamente igual à string alvo?\n",
    "\n",
    "__Resposta:__ Levando em consideração que as possibilidades estão limitadas a 10 dígitos, 26 letras e 1 caractere especial, o espaço amostral é de 37 elementos. A palavra buscada possui 28 caracteres, então a dimensão do espaço de busca é:\n",
    "\n",
    "<br><center>$\\Omega_{busca} = 37^{28} = 8,12\\times10^{43}$ </center>\n",
    "\n",
    "Então a probabilidade de uma string gerada aleatoriamente corresponder à string alvo é $P = \\frac{1}{8,12\\times10^{43}}$.\n",
    "\n",
    "<hr>\n",
    "\n",
    "__Pergunta:__ Explique como o algoritmo genético consegue superar essa probabilidade incrivelmente pequena.\n",
    "\n",
    "__Resposta:__ Algoritmos genéticos são baseados na ideia de evolução onde os mais adaptados ao ambiente sobrevivem, se reproduzem e dão origem a novos indivíduos que continuam este ciclo. No caso do problema da doninha as soluções que acertam mais posições de letras são consideradas melhores e têm uma probabilidade maior de terem seus genes repassados. A evolução do algoritmo é exemplificado pela imagem abaixo.\n",
    "\n",
    "![problem example.](https://media.springernature.com/lw785/springer-static/image/prt%3A978-1-4419-9863-7%2F1/MediaObjects/978-1-4419-9863-7_1_Part_Fig2-1485_HTML.gif)\n",
    "\n",
    "<hr>\n",
    "\n",
    "# Resolução do problema\n",
    "\n",
    "Este notebook está estruturado em duas partes. A primeira contém todas as funções utilizadas para desenvolver o algoritmo evolucionário e a segunda realiza experimentos.  \n"
   ]
  },
  {
   "cell_type": "markdown",
   "metadata": {},
   "source": [
    "## [Parte 1] Definindo funções\n",
    "### Definindo estrutura de representação do problema\n",
    "\n",
    "O problema será estruturado como um vetor onde cada letra é representado como um digito da tabela ASCII:\n",
    "\n",
    "<br><center> $METHINKS*IT*IS*LIKE*A*WEASEL$ </center>\n",
    "\n",
    "<br><center> $|77| 69| 84| 72| 73| 78| 75| 83| 42| 73| 84| 42| 73| 83| 42| 76| 73| 75| 69| 42| 65| 42| 87| 69| 65| 83| 69| 76|$ </center>\n",
    "\n",
    "#### Definindo espaço amostral\n",
    "Como o conjunto de busca inclui apenas letras maiúsculas, dígitos e o caractere (*) o espaço de busca do algoritmo será reduzido a este conjunto."
   ]
  },
  {
   "cell_type": "code",
   "execution_count": 4,
   "metadata": {},
   "outputs": [],
   "source": [
    "import string\n",
    "import numpy as np\n",
    "import random as rdn\n",
    "from scipy.stats import rankdata\n",
    "from matplotlib import pyplot as plt\n",
    "import unittest\n",
    "from typing import AnyStr, Callable"
   ]
  },
  {
   "cell_type": "code",
   "execution_count": 5,
   "metadata": {},
   "outputs": [],
   "source": [
    "def sample_space(list_elements: list) -> set:\n",
    "    \"\"\"Receive a list os lists containing all elements in the universe of the problem and return a set object\"\"\"\n",
    "    universal_set = set()\n",
    "    for i in list_elements:\n",
    "        universal_set = universal_set.union(set(i))\n",
    "    return universal_set"
   ]
  },
  {
   "cell_type": "code",
   "execution_count": 6,
   "metadata": {},
   "outputs": [
    {
     "name": "stdout",
     "output_type": "stream",
     "text": [
      "Problem universal set:\n",
      " {0, 'Q', 1, 2, 3, 4, 5, 'P', 6, 7, 8, 9, 'Y', 'T', 'V', 'U', 'H', 'X', 'K', 'Z', 'W', 'A', 'D', 'C', 'G', 'E', 'B', 'I', 'R', 'J', 'F', 'O', 'L', 'S', '*', 'N', 'M'}\n"
     ]
    }
   ],
   "source": [
    "alphabet_list = list(string.ascii_uppercase)\n",
    "numeric_list = [0, 1, 2, 3, 4, 5, 6, 7, 8, 9]\n",
    "other_list = ['*']\n",
    "\n",
    "list_elements = [alphabet_list, numeric_list, other_list]\n",
    "\n",
    "universal_set = sample_space(list_elements)\n",
    "print('Problem universal set:\\n', universal_set)"
   ]
  },
  {
   "cell_type": "markdown",
   "metadata": {},
   "source": [
    "#### Representando dígitos como valores da tabela ASC II\n",
    "A palavra buscada será convertida para valores da tabela ASCII. Esta codificação será usada durante toda a execução do algoritmo e ao final será decodificada para string."
   ]
  },
  {
   "cell_type": "code",
   "execution_count": 7,
   "metadata": {},
   "outputs": [],
   "source": [
    "def get_ascii(string) -> np.array :\n",
    "    \"\"\"Receive a string and return a numpy vector coded in ASCII\"\"\"\n",
    "    if(len(string) == 1):\n",
    "        return ord(string)\n",
    "    else:\n",
    "        return np.array([ord(c) for c in string])"
   ]
  },
  {
   "cell_type": "code",
   "execution_count": 8,
   "metadata": {},
   "outputs": [],
   "source": [
    "def get_string(array) -> str :\n",
    "    \"\"\"Receive a numpy array coded in ASCII and return a string\"\"\"\n",
    "    if(len(array) == 1):\n",
    "        return chr(array)\n",
    "    else:\n",
    "        asc_lst = [chr(c) for c in array]\n",
    "        string = ''\n",
    "        for i in asc_lst: string +=i\n",
    "        return string"
   ]
  },
  {
   "cell_type": "code",
   "execution_count": 9,
   "metadata": {},
   "outputs": [
    {
     "name": "stdout",
     "output_type": "stream",
     "text": [
      "Target string [METHINKS*IT*IS*LIKE*A*WEASEL] coded in ASCII:\n",
      "\n",
      " [77 69 84 72 73 78 75 83 42 73 84 42 73 83 42 76 73 75 69 42 65 42 87 69\n",
      " 65 83 69 76]\n",
      "\n",
      "Coded ASCII back to string: METHINKS*IT*IS*LIKE*A*WEASEL\n"
     ]
    }
   ],
   "source": [
    "target = 'METHINKS*IT*IS*LIKE*A*WEASEL'\n",
    "target_asc = get_ascii(target)\n",
    "print('Target string [' +target+ '] coded in ASCII:\\n\\n', target_asc)\n",
    "\n",
    "\n",
    "example = get_string(target_asc)\n",
    "print('\\nCoded ASCII back to string:', example)"
   ]
  },
  {
   "cell_type": "markdown",
   "metadata": {},
   "source": [
    "__Aplicando conversão ASCII no conjunto universal do problema__\n",
    "\n",
    "Assim como a string buscada, o espaço amostral será codificado como ASCII."
   ]
  },
  {
   "cell_type": "code",
   "execution_count": 10,
   "metadata": {},
   "outputs": [],
   "source": [
    "def set_universal_asc(universal_set):\n",
    "    \"\"\"Receive a set of elements and return a set with the elements coded in ASCII\"\"\"\n",
    "    universal_asc = []\n",
    "    for i, sample in enumerate(universal_set):\n",
    "        if(type(sample) == int):\n",
    "            universal_asc.append(sample + 48)\n",
    "        else:\n",
    "            universal_asc.append(get_ascii(sample))\n",
    "    return set(universal_asc)"
   ]
  },
  {
   "cell_type": "code",
   "execution_count": 11,
   "metadata": {},
   "outputs": [
    {
     "name": "stdout",
     "output_type": "stream",
     "text": [
      "Universal set coded in ASCII:\n",
      " {42, 48, 49, 50, 51, 52, 53, 54, 55, 56, 57, 65, 66, 67, 68, 69, 70, 71, 72, 73, 74, 75, 76, 77, 78, 79, 80, 81, 82, 83, 84, 85, 86, 87, 88, 89, 90}\n"
     ]
    }
   ],
   "source": [
    "universal_asc = set_universal_asc(universal_set)\n",
    "print('Universal set coded in ASCII:\\n',universal_asc)"
   ]
  },
  {
   "cell_type": "markdown",
   "metadata": {},
   "source": [
    "#### Função `start_problem`\n",
    "Esta função recebe a palavra deseja e o universo amostral e retorna ambos em ASCII"
   ]
  },
  {
   "cell_type": "code",
   "execution_count": 12,
   "metadata": {},
   "outputs": [],
   "source": [
    "def start_problem(target_string, list_elements):\n",
    "    \"\"\"Receive the string target and a list of elements that compose the universal set. Returns then coded in ASCII\"\"\"\n",
    "    universal_set = sample_space(list_elements)\n",
    "    universal_asc = set_universal_asc(universal_set)\n",
    "    target_asc = get_ascii(target_string)\n",
    "    return target_asc, universal_asc"
   ]
  },
  {
   "cell_type": "markdown",
   "metadata": {},
   "source": [
    "---\n",
    "### Inicializando o problema com solução aleatória\n",
    "\n",
    "Retorna uma matriz de tamanho $p \\times n$ onde $p$ é número de soluções candidatas na população e $n$ é o tamanho da string. Eles são preenchidos com valores aleatórios que estão contidos no universal amostral em ASCII. "
   ]
  },
  {
   "cell_type": "code",
   "execution_count": 13,
   "metadata": {},
   "outputs": [],
   "source": [
    "def initialise_population(population_size:int, string_len:int, universal_asc:set) -> np.ndarray:\n",
    "    \"\"\"\n",
    "    Initialise population with random solutions from the universal set\n",
    "        \n",
    "    Arguments:\n",
    "        population_size -- the size of population defined in the parameters\n",
    "        string_len -- string length\n",
    "        universal_asc -- numpy array containing all possible elements in the solution\n",
    "        \n",
    "    Returns:\n",
    "        population -- a ndarray with randomly initialize solutions \n",
    "    \"\"\"\n",
    "    population = np.empty((population_size, string_len), int)\n",
    "\n",
    "    for i in range(population_size):\n",
    "        population[i, :] = rdn.sample(universal_asc, string_len)\n",
    "    \n",
    "    return population"
   ]
  },
  {
   "cell_type": "code",
   "execution_count": 14,
   "metadata": {},
   "outputs": [
    {
     "name": "stdout",
     "output_type": "stream",
     "text": [
      "Population shape: (5, 28) \n",
      "\n",
      " [[70 87 78 50 53 56 69 55 84 89 76 49 54 65 90 68 57 52 51 48 74 42 80 77\n",
      "  81 82 67 85]\n",
      " [55 65 53 87 80 48 86 79 69 89 51 67 49 84 78 50 42 77 52 82 73 54 75 88\n",
      "  71 56 72 85]\n",
      " [88 85 90 75 79 56 70 71 86 67 50 54 77 74 69 65 82 55 81 66 68 53 78 83\n",
      "  52 84 87 57]\n",
      " [89 80 65 57 51 75 50 82 85 42 77 49 81 79 84 53 90 67 56 48 52 74 66 78\n",
      "  72 68 76 69]\n",
      " [67 88 55 90 66 86 69 70 73 89 42 49 65 56 76 57 50 79 54 74 87 53 72 77\n",
      "  84 52 71 80]]\n",
      "\n",
      "Decoding the first random solution as string:\n",
      " FWN258E7TYL16AZD9430J*PMQRCU\n"
     ]
    }
   ],
   "source": [
    "population_size = 5\n",
    "population = initialise_population(population_size, len(target), universal_asc)\n",
    "print('Population shape:', population.shape, '\\n\\n', population[0:5,:])\n",
    "print('\\nDecoding the first random solution as string:\\n', get_string(population[0,:]))"
   ]
  },
  {
   "cell_type": "markdown",
   "metadata": {},
   "source": [
    "---\n",
    "### Função de fit\n",
    "Compara uma solução candidata com a string desejada em ASCII e retorna a quantidade de elementos que são idênticos. Solução final é encontrada quando fit retorna o tamanho da string. Nesta seção é utilizada uma função que calcula o fit de uma única solução e outra que calcula da população."
   ]
  },
  {
   "cell_type": "code",
   "execution_count": 15,
   "metadata": {},
   "outputs": [],
   "source": [
    "def fit(solution: np.ndarray, target: np.ndarray) -> int:\n",
    "    \"\"\" Receive a numpy array with a candidate solution and the target string in ascii\n",
    "        Compare both and return how many elements are equal\n",
    "    \"\"\"\n",
    "    fit_value = np.sum(solution == target)\n",
    "    return fit_value"
   ]
  },
  {
   "cell_type": "code",
   "execution_count": 16,
   "metadata": {},
   "outputs": [
    {
     "name": "stdout",
     "output_type": "stream",
     "text": [
      "Fit from a mistaken solution: 26\n",
      "Fit from final solution: 28\n"
     ]
    }
   ],
   "source": [
    "final_fit = fit(target_asc, target_asc)\n",
    "\n",
    "mistaken_solution = target_asc.copy()\n",
    "mistaken_solution[0:2] = np.zeros(2)\n",
    "\n",
    "mistaken_fit = fit(mistaken_solution, target_asc)\n",
    "print('Fit from a mistaken solution:', mistaken_fit)\n",
    "print('Fit from final solution:', final_fit)"
   ]
  },
  {
   "cell_type": "code",
   "execution_count": 17,
   "metadata": {},
   "outputs": [],
   "source": [
    "def fit_population(population: np.ndarray, target: np.ndarray) -> np.ndarray:\n",
    "    \"\"\"Receive a numpy ndarray with population and return a ndarray containing fit value for each solution\"\"\"\n",
    "    fit_array = np.empty(population.shape[0])\n",
    "    for i in np.arange(population.shape[0]):\n",
    "        fit_array[i] = fit(population[i,:], target)\n",
    "    return fit_array"
   ]
  },
  {
   "cell_type": "code",
   "execution_count": 18,
   "metadata": {},
   "outputs": [
    {
     "name": "stdout",
     "output_type": "stream",
     "text": [
      "Fit population vector:\n",
      " [0. 0. 1. 0. 1.]\n"
     ]
    }
   ],
   "source": [
    "population = initialise_population(5, len(target_asc), universal_asc)\n",
    "\n",
    "fit_population_ex = fit_population(population, target_asc)\n",
    "print('Fit population vector:\\n',fit_population_ex)"
   ]
  },
  {
   "cell_type": "markdown",
   "metadata": {},
   "source": [
    "---\n",
    "### Seleção de pais\n",
    "\n",
    "Para a seleção de pais será usado o operador de probabilidade de seleção baseado em rankeamento linear e roleta, para isso os seguintes passos são executados:\n",
    "\n",
    "1. um vetor com o valor de fit da população é recebido e calcula-se o rank entre as soluções candidatas;\n",
    "2. aplica-se uma transformação linear no ranque, sendo definido por um parâmetro $s$ que indica a inclinação da reta;\n",
    "3. calcula-se a contribuição proporcional de cada solução candidata que foi ranqueada de forma linear;\n",
    "4. é calculada a função de probabilidade acumulada da contribuição proporcional de soluções;\n",
    "5. a função de probabilidade acumulada é passada para a função de roleta que seleciona aleatoriamente qual soluções é escolhida;\n",
    "6. a função `select_parents` roda a roleta $p$ vezes, onde $p$ é o número de pais a serem selecionados. \n",
    "\n",
    "#### Aplicando rank no fit  da população \n",
    "Atribui um rank ao vetor de fit da população"
   ]
  },
  {
   "cell_type": "code",
   "execution_count": 19,
   "metadata": {},
   "outputs": [],
   "source": [
    "def rank_population(fit_population: np.array, rank_method='ordinal') -> np.array:\n",
    "    \"\"\"Receive a numpy array with solutions fit value and return a numpy array with its rank\"\"\"\n",
    "    return np.array(rankdata(fit_population, method=rank_method)-1).ravel().astype(int)"
   ]
  },
  {
   "cell_type": "code",
   "execution_count": 20,
   "metadata": {},
   "outputs": [
    {
     "name": "stdout",
     "output_type": "stream",
     "text": [
      "Fit example: [1 9 5]\n",
      "Rank result: [0 2 1]\n"
     ]
    }
   ],
   "source": [
    "fit_example = np.array([1, 9, 5])\n",
    "rank_example = rank_population(fit_example)\n",
    "print('Fit example:', fit_example)\n",
    "print('Rank result:', rank_example)"
   ]
  },
  {
   "cell_type": "markdown",
   "metadata": {},
   "source": [
    "#### Aplicando transformação lienar no rank da população \n",
    "Calculo da contribuição proporcional de cada solução candidata que foi ranqueada de forma linear."
   ]
  },
  {
   "cell_type": "code",
   "execution_count": 21,
   "metadata": {},
   "outputs": [],
   "source": [
    "def linear_rank(pop_size:int, rank_i:int, s=1.5) -> float:\n",
    "    \"\"\" Compute proportional selection using linear ranking\n",
    "        Args: - pop_size: population size\n",
    "              - rank_i: rank position from a solution\n",
    "              - s: define the line slope on ranking. 1 <= s <= 2\n",
    "    \"\"\"\n",
    "    first_part = (2-s)/pop_size\n",
    "    second_part = ((2*rank_i)*(s-1))/(pop_size*(pop_size-1))\n",
    "    return first_part + second_part"
   ]
  },
  {
   "cell_type": "code",
   "execution_count": 22,
   "metadata": {},
   "outputs": [],
   "source": [
    "def proportional_rank_population(rank_array: np.array, s=1.5) -> np.array:\n",
    "    \"\"\" Compute proportional selection using linear ranking for all population \"\"\"\n",
    "    pop_size = len(rank_array)\n",
    "    proportional_rank_pop = np.empty(pop_size, float)\n",
    "    for i in range(pop_size):\n",
    "        proportional_rank_pop[i] = linear_rank(pop_size, rank_array[i], s)\n",
    "    return proportional_rank_pop"
   ]
  },
  {
   "cell_type": "code",
   "execution_count": 23,
   "metadata": {},
   "outputs": [
    {
     "name": "stdout",
     "output_type": "stream",
     "text": [
      "Rank example: [0 2 1]\n",
      "Proportional selection to rank example: [0.167 0.5   0.333]\n"
     ]
    }
   ],
   "source": [
    "proportional_rank_pop = proportional_rank_population(rank_example)\n",
    "print('Rank example:', rank_example)\n",
    "print('Proportional selection to rank example:', proportional_rank_pop.round(3))"
   ]
  },
  {
   "cell_type": "markdown",
   "metadata": {},
   "source": [
    "#### Seleção de solução usando roleta de seleção\n",
    "\n",
    "<img src=\"https://www.researchgate.net/publication/311245613/figure/fig3/AS:566020097220608@1511961115040/Roulette-wheel-selection-based-on-fitness.png\" alt=\"roullete-example\" width=\"400\"/>\n"
   ]
  },
  {
   "cell_type": "code",
   "execution_count": 24,
   "metadata": {},
   "outputs": [],
   "source": [
    "def roulette_selection(cdf_pop: np.array, r: float) -> int:\n",
    "    \"\"\" Select a parent to breed using the roulette wheel selection method\n",
    "        Args: - cdf_pop: numpy array containing the population cumulative distribution function \n",
    "              - r: random float number between 0 and 1\n",
    "    \"\"\"\n",
    "    selected_parent = np.where(cdf_pop >= r)[0][0]\n",
    "    return selected_parent"
   ]
  },
  {
   "cell_type": "code",
   "execution_count": 25,
   "metadata": {},
   "outputs": [
    {
     "name": "stdout",
     "output_type": "stream",
     "text": [
      "Given the rank proportion example: [0.31 0.05 0.38 0.12 0.14]\n",
      "The cumulative distribution function is: [0.31 0.36 0.74 0.86 1.  ]\n",
      "\n",
      "For a random number r = 0.5 the selected parent is at index: 2\n"
     ]
    }
   ],
   "source": [
    "rank_proportion_ex = np.array([0.31, 0.05, 0.38, 0.12, 0.14])\n",
    "cdf_pop = np.cumsum(rank_proportion_ex)\n",
    "print('Given the rank proportion example:', rank_proportion_ex)\n",
    "print('The cumulative distribution function is:', cdf_pop)\n",
    "print('\\nFor a random number r = 0.5 the selected parent is at index:', roulette_selection(cdf_pop, 0.5))"
   ]
  },
  {
   "cell_type": "markdown",
   "metadata": {},
   "source": [
    "#### Escolhendo pais para procriação\n",
    "Dado o vetor de proporcionalidade de soluções, a roleta é executada $p$ vezes, onde $p$  é o número de pais a serem selecionados."
   ]
  },
  {
   "cell_type": "code",
   "execution_count": 26,
   "metadata": {},
   "outputs": [],
   "source": [
    "def select_parents(proportional_fit: np.array, number_parents) -> np.array:\n",
    "    \"\"\" Return a numpy containing selected parents for breeding\n",
    "        Args: - proportional_fit: numpy array containing fitness proportion for each solution\n",
    "              - number_parents: number of parents to select\n",
    "    \"\"\"\n",
    "    select_parents = np.empty(number_parents, int)\n",
    "    cdf_pop = np.cumsum(proportional_fit)\n",
    "    for i in np.arange(number_parents):\n",
    "        r = rdn.random()\n",
    "        select_parents[i] = roulette_selection(cdf_pop, r)\n",
    "    return select_parents"
   ]
  },
  {
   "cell_type": "code",
   "execution_count": 27,
   "metadata": {},
   "outputs": [
    {
     "name": "stdout",
     "output_type": "stream",
     "text": [
      "Given the rank proportion example: [0.31 0.05 0.38 0.12 0.14]\n",
      "\n",
      "Selecting 5 parents for breeding the follow solutions are chosen:\n",
      " [2 3 0 2 3]\n"
     ]
    }
   ],
   "source": [
    "rank_proportion_ex = np.array([0.31, 0.05, 0.38, 0.12, 0.14])\n",
    "print('Given the rank proportion example:', rank_proportion_ex)\n",
    "\n",
    "parents = select_parents(rank_proportion_ex, 5)\n",
    "print('\\nSelecting 5 parents for breeding the follow solutions are chosen:\\n', parents)"
   ]
  },
  {
   "cell_type": "markdown",
   "metadata": {},
   "source": [
    "---\n",
    "### Cruzamento\n",
    "Esta etapa é dividida em duas funções `breed_equal_gene` e `breed_popultion`. A primeira faz o cruzamento de dois pais para gerar dois filhos, enquanto a segunda executa este procedimento em uma população. \n",
    "\n",
    "\n",
    "Para o cruzamento de dois indivíduos é analisada a semelhança entre eles: posições que são iguais são repassadas para frente, as que são diferentes recebem um valor aleatório dentro do espaço amostral."
   ]
  },
  {
   "cell_type": "code",
   "execution_count": 28,
   "metadata": {},
   "outputs": [],
   "source": [
    "def breed_equal_gene(parent_A: np.ndarray, parent_B: np.ndarray, universal_set: set) -> np.ndarray:\n",
    "    \"\"\" \n",
    "    Returns a numpy ndarray of 2 children\n",
    "    Arguments:\n",
    "        parent_A, parent_B -- the solutions candidate to breeding\n",
    "        universal_set -- universal set of problem\n",
    "    \"\"\"\n",
    "    len_parent = len(parent_A)\n",
    "    children = np.empty((2, len_parent), dtype=int)\n",
    "    \n",
    "    for i in range(0, len_parent, 1):\n",
    "        if(parent_A[i] == parent_B[i]):\n",
    "            children[:,i] = parent_A[i]\n",
    "        else:\n",
    "            children[0,i] = list(universal_set)[np.random.randint(len(universal_set))]\n",
    "            children[1,i] = list(universal_set)[np.random.randint(len(universal_set))]\n",
    "    \n",
    "    return children"
   ]
  },
  {
   "cell_type": "code",
   "execution_count": 29,
   "metadata": {},
   "outputs": [
    {
     "name": "stdout",
     "output_type": "stream",
     "text": [
      "Parent A: [0, 2, 0, 4, 0]\n",
      "Parent B: [1, 2, 3, 4, 5]\n",
      "\n",
      "Children:\n",
      " [[81  2 85  4 67]\n",
      " [49  2 85  4 65]]\n"
     ]
    }
   ],
   "source": [
    "parent_A = [0,2,0,4,0]\n",
    "parent_B = [1,2,3,4,5]\n",
    "\n",
    "children = breed_equal_gene(parent_A, parent_B, universal_asc)\n",
    "print('Parent A:', parent_A)\n",
    "print('Parent B:', parent_B)\n",
    "print('\\nChildren:\\n', children)"
   ]
  },
  {
   "cell_type": "code",
   "execution_count": 30,
   "metadata": {},
   "outputs": [],
   "source": [
    "def breed_population(population: np.ndarray, parents: np.array, children_number, universal_set) -> np.ndarray:\n",
    "    \"\"\" Return a numpy ndarray with children given a population and a array containing the indexes of selected parents \"\"\"\n",
    "    if(children_number > len(parents) or children_number < 2):\n",
    "        print('Exiting bree function. Number of children must be less or equal then number or parents. Minimum of 2 children.')\n",
    "        print('Returning original population.')\n",
    "        return population\n",
    "    \n",
    "    children = np.empty((children_number, population.shape[1]), int)\n",
    "    \n",
    "    for i in range(0, children_number, 2):\n",
    "        parent_A = parents[i]\n",
    "        next_i = i+1\n",
    "        if(next_i >= len(parents)):\n",
    "            parent_B = parents[0]\n",
    "            children[i, :] = breed_equal_gene(population[parent_A, :], population[parent_B, :], universal_set)[0]\n",
    "            \n",
    "        else:\n",
    "            parent_B = parents[next_i]\n",
    "            children[i:next_i+1, :] = breed_equal_gene(population[parent_A, :], population[parent_B, :], universal_set) \n",
    "        \n",
    "    return children"
   ]
  },
  {
   "cell_type": "markdown",
   "metadata": {},
   "source": [
    "---\n",
    "### Mutação\n",
    "\n",
    "Dado um par de filhos é calculada a chance de mutação, onde são permutados dois elementos da solução."
   ]
  },
  {
   "cell_type": "code",
   "execution_count": 31,
   "metadata": {},
   "outputs": [],
   "source": [
    "def mutation_permutation(children: np.array, mutation_chance=0.5) -> np.ndarray:\n",
    "    \"\"\"Apply mutation to children: permute among two positions\"\"\"\n",
    "    len_children = len(children)\n",
    "    r = np.random.rand(1)\n",
    "    if(r <= mutation_chance):\n",
    "        position_1 = np.random.randint(len_children)\n",
    "        position_2 = np.random.randint(len_children)\n",
    "        children[position_1], children[position_2] = children[position_2], children[position_1]\n",
    "    return children"
   ]
  },
  {
   "cell_type": "code",
   "execution_count": 32,
   "metadata": {},
   "outputs": [],
   "source": [
    "def mutation_population(children: np.array, mutation: Callable, mutation_chance=0.5) -> np.ndarray:\n",
    "    \"\"\" Apply mutation on population \"\"\"\n",
    "    for i in np.arange(children.shape[0]):\n",
    "        children[i,:] = mutation(children[i,:], mutation_chance)\n",
    "    return children"
   ]
  },
  {
   "cell_type": "code",
   "execution_count": 33,
   "metadata": {},
   "outputs": [
    {
     "name": "stdout",
     "output_type": "stream",
     "text": [
      "Children:\n",
      " [[1 2 3 4 5]\n",
      " [5 4 3 2 1]]\n",
      "\n",
      "Children mutaded:\n",
      " [[5 2 3 4 1]\n",
      " [5 4 2 3 1]]\n"
     ]
    }
   ],
   "source": [
    "children = np.array([[1, 2, 3, 4, 5],\n",
    "                     [5, 4, 3, 2, 1]])\n",
    "print('Children:\\n', children)\n",
    "\n",
    "children_mutated = mutation_population(children, mutation_permutation, 1)\n",
    "print('\\nChildren mutaded:\\n', children_mutated)"
   ]
  },
  {
   "cell_type": "markdown",
   "metadata": {},
   "source": [
    "### Seleção de sobreviventes\n",
    "\n",
    "Seleção é composta de duas etapas:\n",
    "\n",
    "1. próxima geração é gerada à partir de pais e filhos;\n",
    "2. é aplicada uma pressão seletiva que remove o percentual desejado de piores soluções."
   ]
  },
  {
   "cell_type": "code",
   "execution_count": 34,
   "metadata": {},
   "outputs": [],
   "source": [
    "def generation_selection(parents: np.ndarray, children: np.ndarray) -> np.ndarray:\n",
    "    \"\"\" Select the candidate solution for next generation \"\"\"\n",
    "    next_gereration = np.concatenate((parents, children), axis=0)\n",
    "    return next_gereration"
   ]
  },
  {
   "cell_type": "code",
   "execution_count": 35,
   "metadata": {},
   "outputs": [
    {
     "name": "stdout",
     "output_type": "stream",
     "text": [
      "Parents:\n",
      " [[0 0 0 0 0]\n",
      " [1 1 3 1 5]]\n",
      "Children:\n",
      " [[1 2 3 4 5]\n",
      " [5 4 3 2 1]]\n",
      "\n",
      "Next generation:\n",
      " [[0 0 0 0 0]\n",
      " [1 1 3 1 5]\n",
      " [1 2 3 4 5]\n",
      " [5 4 3 2 1]]\n"
     ]
    }
   ],
   "source": [
    "parents = np.array([[0,0,0,0,0],\n",
    "                      [1,1,3,1,5]])\n",
    "\n",
    "children = np.array([[1, 2, 3, 4, 5],\n",
    "                     [5, 4, 3, 2, 1]])\n",
    "\n",
    "next_generation = generation_selection(parents, children)\n",
    "print('Parents:\\n', parents)\n",
    "print('Children:\\n', children)\n",
    "print('\\nNext generation:\\n', next_generation)"
   ]
  },
  {
   "cell_type": "code",
   "execution_count": 36,
   "metadata": {},
   "outputs": [],
   "source": [
    "def meritocracy_society(fit_pop: np.array, elimination_factor: int = 0.3) -> np.array:\n",
    "    \"\"\" Return population index to be selected given a array of fit values and a elimination factor between 0 and 1.\n",
    "        The solutions with less fit value are eliminated   \n",
    "    \"\"\"\n",
    "    index_cut = round(len(fit_pop)*(1 - elimination_factor))\n",
    "\n",
    "    sorted_population = np.empty((len(fit_pop), 2))\n",
    "    sorted_population[:, 0] = np.arange(len(fit_pop))\n",
    "    sorted_population[:, 1] = fit_pop\n",
    "\n",
    "    sorted_population = sorted_population[sorted_population[:,1].argsort()[::-1]]\n",
    "    sorted_population = sorted_population[0:index_cut, :]\n",
    "    return sorted_population[:,0].astype(int)    "
   ]
  },
  {
   "cell_type": "code",
   "execution_count": 37,
   "metadata": {},
   "outputs": [
    {
     "name": "stdout",
     "output_type": "stream",
     "text": [
      "Next generation before selection pressure:\n",
      " [[0 0 0 0 0]\n",
      " [1 1 3 1 5]\n",
      " [1 2 3 4 5]\n",
      " [5 4 3 2 1]]\n",
      "\n",
      "Problem example target: [0 1 0 1 0]\n",
      "fit from each solution: [3. 2. 0. 0.]\n",
      "\n",
      "Next generation after selection pressure removed 30%:\n",
      " [[0 0 0 0 0]\n",
      " [1 1 3 1 5]\n",
      " [5 4 3 2 1]]\n"
     ]
    }
   ],
   "source": [
    "print('Next generation before selection pressure:\\n', next_generation)\n",
    "\n",
    "example_target = np.array([0, 1, 0, 1, 0])\n",
    "print('\\nProblem example target:', example_target)\n",
    "\n",
    "\n",
    "fit_pop = fit_population(next_generation, example_target)\n",
    "print('fit from each solution:', fit_pop)\n",
    "best_next_generation = meritocracy_society(fit_pop)\n",
    "print('\\nNext generation after selection pressure removed 30%:\\n', next_generation[best_next_generation,:])\n"
   ]
  },
  {
   "cell_type": "markdown",
   "metadata": {},
   "source": [
    "---\n",
    "### Algortimo genético\n",
    "\n",
    "1. algortimo é inicializado com soluções aleatórias;\n",
    "2. é calculado o fit da população;\n",
    "3. enquanto o número total de gerações não for alcançado ou a melhor solução não for encontrada faça:\n",
    "    2. remova os menos aptos;\n",
    "    3. rankeie a população de acordo com o fit;\n",
    "    4. selecione pais para cruzamento;\n",
    "    5. gere filhos usando os dois tipos de cruzamento;\n",
    "    6. aplique mutação;\n",
    "    7. calcule o fit dos filhos \n",
    "    8. gere a nova geração com pais + filhos\n"
   ]
  },
  {
   "cell_type": "code",
   "execution_count": 47,
   "metadata": {},
   "outputs": [],
   "source": [
    "def GA_string(target, universal_set, population_size, parents_number, children_number, elimination_factor, mutation_chance):\n",
    "    solution_found = False\n",
    "    final_fit = len(target)\n",
    "    fit_pop = []\n",
    "    \n",
    "    result = {'best_solution': [], 'log_best_fit': [], 'log_mean_fit':[], 'solution_found': False}\n",
    "    \n",
    "    # Start population\n",
    "    population = initialise_population(population_size, len(target), universal_set)\n",
    "    most_adapted_idx = np.arange(len(population))\n",
    "    fit_pop = fit_population(population, target_asc)  \n",
    "    \n",
    "    for i in range(0, generations, 1):  \n",
    "        if(i != 0):\n",
    "            most_adapted_idx = meritocracy_society(fit_pop, elimination_factor) \n",
    "\n",
    "        fit_pop = fit_pop[most_adapted_idx]\n",
    "        population = population[most_adapted_idx]\n",
    "        \n",
    "        idx_best_solution = np.where(fit_pop == np.amax(fit_pop))[0][0]\n",
    "        result['best_solution'] = population[idx_best_solution, :]\n",
    "\n",
    "        result['log_best_fit'].append(fit_pop.max())\n",
    "        result['log_mean_fit'].append(fit_pop.mean())\n",
    "\n",
    "        if final_fit in fit_pop: \n",
    "            solution_found = True\n",
    "            break\n",
    "            \n",
    "        \n",
    "        rank_pop = rank_population(fit_pop)\n",
    "        proport_rank_pop = proportional_rank_population(rank_pop)\n",
    "        \n",
    "        parents = select_parents(proport_rank_pop, parents_number)\n",
    "        \n",
    "        children = breed_population(population, parents, children_number, universal_set)\n",
    "        children = mutation_population(children, mutation_permutation, mutation_chance)\n",
    "        \n",
    "        \n",
    "        fit_children = fit_population(children, target_asc) \n",
    "        fit_pop = np.concatenate((fit_pop, fit_children))\n",
    "\n",
    "        population = generation_selection(population, children)\n",
    "    \n",
    "    result['solution_found'] = solution_found\n",
    "    return result"
   ]
  },
  {
   "cell_type": "markdown",
   "metadata": {},
   "source": [
    "__Mostrar resultados__ "
   ]
  },
  {
   "cell_type": "code",
   "execution_count": 48,
   "metadata": {
    "hide_input": false
   },
   "outputs": [],
   "source": [
    "def show_results(solution_found, best_solution, log, mean_log):\n",
    "    if(solution_found):\n",
    "        print(\"Solution found!\\n\")\n",
    "    else:\n",
    "        print(\"Solution not found :(\\n\")\n",
    "\n",
    "    print(get_string(best_solution))\n",
    "\n",
    "    log = np.array(log)\n",
    "    mean_log = np.array(mean_log)\n",
    "    \n",
    "    plt.title(\"Generations log:\")\n",
    "    plt.xlabel(\"Generations\")\n",
    "    plt.ylabel(\"Fit value\")\n",
    "    plt.plot(log, 'b-', label='Best')\n",
    "    plt.plot(mean_log, 'g-', label='Mean')\n",
    "    plt.legend()\n",
    "\n",
    "    plt.show()"
   ]
  },
  {
   "cell_type": "markdown",
   "metadata": {
    "hide_input": false
   },
   "source": [
    "## [Parte 2] Experimentos\n"
   ]
  },
  {
   "cell_type": "code",
   "execution_count": 49,
   "metadata": {},
   "outputs": [],
   "source": [
    "alphabet_list = list(string.ascii_uppercase)\n",
    "numeric_list = [0, 1, 2, 3, 4, 5, 6, 7, 8, 9]\n",
    "other_list = ['*']\n",
    "list_elements = [alphabet_list, numeric_list, other_list]\n",
    "\n",
    "target_string = 'METHINKS*IT*IS*LIKE*A*WEASEL'\n",
    "target_asc, universal_asc = start_problem(target_string, list_elements)"
   ]
  },
  {
   "cell_type": "code",
   "execution_count": 50,
   "metadata": {
    "scrolled": false
   },
   "outputs": [
    {
     "name": "stdout",
     "output_type": "stream",
     "text": [
      "Solution found!\n",
      "\n",
      "METHINKS*IT*IS*LIKE*A*WEASEL\n"
     ]
    },
    {
     "data": {
      "image/png": "[encoded data removed]",
      "text/plain": [
       "<Figure size 432x288 with 1 Axes>"
      ]
     },
     "metadata": {
      "needs_background": "light"
     },
     "output_type": "display_data"
    }
   ],
   "source": [
    "mutation_chance = 0.1\n",
    "population_size = 1500\n",
    "generations = 3000\n",
    "elimination_factor = 0.4\n",
    "children_number = 500\n",
    "parents_number = children_number\n",
    "\n",
    "result = GA_string(target_asc, universal_asc, population_size, parents_number,\n",
    "                                    children_number, elimination_factor, mutation_chance)\n",
    "\n",
    "show_results(result['solution_found'], result['best_solution'], result['log_best_fit'], result['log_mean_fit'])"
   ]
  },
  {
   "cell_type": "markdown",
   "metadata": {},
   "source": [
    "### Experimento [1] Chance de mutação = {0, 0.3, 0.5, 0.7, 1}"
   ]
  },
  {
   "cell_type": "code",
   "execution_count": 51,
   "metadata": {},
   "outputs": [],
   "source": [
    "mt_exp_result = []\n",
    "lst_mutation = [0, 0.01, 0.1, 0.3, 0.5, 0.7, 1]\n",
    "\n",
    "for mt_chance in lst_mutation:\n",
    "    result_exp = GA_string(target_asc, universal_asc, population_size, parents_number, children_number,\n",
    "                           elimination_factor, mt_chance)\n",
    "    mt_exp_result.append(result_exp)"
   ]
  },
  {
   "cell_type": "code",
   "execution_count": 52,
   "metadata": {},
   "outputs": [
    {
     "data": {
      "image/png": "[encoded data removed]",
      "text/plain": [
       "<Figure size 1200x400 with 2 Axes>"
      ]
     },
     "metadata": {
      "needs_background": "light"
     },
     "output_type": "display_data"
    },
    {
     "name": "stdout",
     "output_type": "stream",
     "text": [
      "Best solutions analysis:\n",
      "\n",
      "Chance\tFound?\n",
      "0 \t True\n",
      "0.01 \t True\n",
      "0.1 \t True\n",
      "0.3 \t True\n",
      "0.5 \t True\n",
      "0.7 \t True\n",
      "1 \t False\n"
     ]
    }
   ],
   "source": [
    "fig, ax = plt.subplots(1,2, figsize=(15, 5), dpi=80)\n",
    "plt.subplot(121), plt.title('Mutation best fit comparison')\n",
    "for i, exp_result in enumerate(mt_exp_result):\n",
    "    plt.plot(exp_result['log_best_fit'], label=lst_mutation[i])\n",
    "plt.xlabel('Generation'), plt.ylabel('Fit Value')\n",
    "plt.legend()\n",
    "\n",
    "plt.subplot(122), plt.title('Mutation mean fit comparison')\n",
    "for i, exp_result in enumerate(mt_exp_result):\n",
    "    plt.plot(exp_result['log_mean_fit'], label=lst_mutation[i])\n",
    "plt.xlabel('Generation'), plt.ylabel('Fit Value')\n",
    "plt.legend()\n",
    "\n",
    "plt.show()\n",
    "print('Best solutions analysis:\\n')\n",
    "print('Chance\\tFound?')\n",
    "for i, exp_result in enumerate(mt_exp_result):\n",
    "    print(lst_mutation[i],'\\t',exp_result['solution_found'])"
   ]
  },
  {
   "cell_type": "markdown",
   "metadata": {},
   "source": [
    "Analisando os experimentos de chance de mutação concluiu-se que o tempo de convergência foi diferente para cada cenário de mutação. A tendência é que um número baixo de probabilidade de mutação gere resultados que convergem mais rapidamente para a solução, enquanto uma chance muito alta ou muito baixa de mutação pode impedir a solução de convergir."
   ]
  },
  {
   "cell_type": "markdown",
   "metadata": {},
   "source": [
    "### Experimento [2] mudança no número de filhos = {20, 50, 200, 500, 1200. 1500}"
   ]
  },
  {
   "cell_type": "code",
   "execution_count": 53,
   "metadata": {},
   "outputs": [],
   "source": [
    "mutation_chance = 0.05\n",
    "population_size = 1500\n",
    "generations = 2500\n",
    "elimination_factor = 0.4"
   ]
  },
  {
   "cell_type": "code",
   "execution_count": 54,
   "metadata": {},
   "outputs": [],
   "source": [
    "ch_exp_result = []\n",
    "lst_children = [20, 50, 200, 500, 700, 1200, 1500]\n",
    "\n",
    "for n_children in lst_children:\n",
    "    result_exp = GA_string(target_asc, universal_asc, population_size, n_children, n_children, elimination_factor, \n",
    "                           mutation_chance)\n",
    "    ch_exp_result.append(result_exp)"
   ]
  },
  {
   "cell_type": "code",
   "execution_count": 55,
   "metadata": {},
   "outputs": [
    {
     "data": {
      "image/png": "[encoded data removed]",
      "text/plain": [
       "<Figure size 1200x400 with 2 Axes>"
      ]
     },
     "metadata": {
      "needs_background": "light"
     },
     "output_type": "display_data"
    },
    {
     "name": "stdout",
     "output_type": "stream",
     "text": [
      "Best solutions analysis:\n",
      "\n",
      "Children\tFound?\n",
      "20 \t False\n",
      "50 \t False\n",
      "200 \t True\n",
      "500 \t True\n",
      "700 \t True\n",
      "1200 \t True\n",
      "1500 \t True\n"
     ]
    }
   ],
   "source": [
    "fig, ax = plt.subplots(1,2, figsize=(15, 5), dpi=80)\n",
    "\n",
    "plt.subplot(121), plt.title('Mutation best fit comparison')\n",
    "for i, exp_result in enumerate(ch_exp_result):\n",
    "    plt.plot(exp_result['log_best_fit'], label=lst_children[i])\n",
    "plt.xlabel('Generation'), plt.ylabel('Fit Value')\n",
    "plt.legend()\n",
    "\n",
    "plt.subplot(122), plt.title('Mutation mean fit comparison')\n",
    "for i, exp_result in enumerate(ch_exp_result):\n",
    "    plt.plot(exp_result['log_mean_fit'], label=lst_children[i])\n",
    "plt.xlabel('Generation'), plt.ylabel('Fit Value')\n",
    "plt.legend()\n",
    "\n",
    "plt.show()\n",
    "print('Best solutions analysis:\\n')\n",
    "print('Children\\tFound?')\n",
    "for i, exp_result in enumerate(ch_exp_result):\n",
    "    print(lst_children[i],'\\t', exp_result['solution_found'])"
   ]
  },
  {
   "cell_type": "markdown",
   "metadata": {},
   "source": [
    "Analisando o experimento de número de filhos percebe-se que apenas alguns cenários não convergiram para uma solução. Um menor número de filhos leva a uma população mais homogênea, que pode ficar presa em mínimos locais, além das curvas de melhor fit e mean fit terem comportamentos próximos. Geração de filhos igual ao número de pais se mostrou ser a estratégia mais assertiva, levando a uma convergência em todos os experimentos realizados. "
   ]
  },
  {
   "cell_type": "code",
   "execution_count": null,
   "metadata": {},
   "outputs": [],
   "source": []
  }
 ],
 "metadata": {
  "kernelspec": {
   "display_name": "Python 3",
   "language": "python",
   "name": "python3"
  },
  "language_info": {
   "codemirror_mode": {
    "name": "ipython",
    "version": 3
   },
   "file_extension": ".py",
   "mimetype": "text/x-python",
   "name": "python",
   "nbconvert_exporter": "python",
   "pygments_lexer": "ipython3",
   "version": "3.7.7"
  },
  "latex_envs": {
   "LaTeX_envs_menu_present": true,
   "autoclose": false,
   "autocomplete": true,
   "bibliofile": "biblio.bib",
   "cite_by": "apalike",
   "current_citInitial": 1,
   "eqLabelWithNumbers": true,
   "eqNumInitial": 1,
   "hotkeys": {
    "equation": "Ctrl-E",
    "itemize": "Ctrl-I"
   },
   "labels_anchors": false,
   "latex_user_defs": false,
   "report_style_numbering": false,
   "user_envs_cfg": false
  },
  "toc": {
   "base_numbering": 1,
   "nav_menu": {},
   "number_sections": true,
   "sideBar": true,
   "skip_h1_title": true,
   "title_cell": "Sumário",
   "title_sidebar": "Naegação",
   "toc_cell": true,
   "toc_position": {
    "height": "calc(100% - 180px)",
    "left": "10px",
    "top": "150px",
    "width": "480px"
   },
   "toc_section_display": true,
   "toc_window_display": false
  }
 },
 "nbformat": 4,
 "nbformat_minor": 4
}
