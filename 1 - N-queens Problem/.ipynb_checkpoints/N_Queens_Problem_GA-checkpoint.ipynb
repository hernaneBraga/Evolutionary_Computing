{
 "cells": [
  {
   "cell_type": "markdown",
   "metadata": {
    "toc": true
   },
   "source": [
    "<h1>Table of Contents<span class=\"tocSkip\"></span></h1>\n",
    "<div class=\"toc\"><ul class=\"toc-item\"><li><span><a href=\"#[ELE-083]-Evolutionary-computation:-N-queens-problem\" data-toc-modified-id=\"[ELE-083]-Evolutionary-computation:-N-queens-problem-1\"><span class=\"toc-item-num\">1&nbsp;&nbsp;</span>[ELE 083] Evolutionary computation: N-queens problem</a></span><ul class=\"toc-item\"><li><span><a href=\"#Notebook-structure\" data-toc-modified-id=\"Notebook-structure-1.1\"><span class=\"toc-item-num\">1.1&nbsp;&nbsp;</span>Notebook structure</a></span></li></ul></li><li><span><a href=\"#Part-1:-step-by-step-on-functions\" data-toc-modified-id=\"Part-1:-step-by-step-on-functions-2\"><span class=\"toc-item-num\">2&nbsp;&nbsp;</span>Part 1: step-by-step on functions</a></span><ul class=\"toc-item\"><li><span><a href=\"#Setting-up\" data-toc-modified-id=\"Setting-up-2.1\"><span class=\"toc-item-num\">2.1&nbsp;&nbsp;</span>Setting up</a></span><ul class=\"toc-item\"><li><span><a href=\"#Loading-libraries-and-support-functions\" data-toc-modified-id=\"Loading-libraries-and-support-functions-2.1.1\"><span class=\"toc-item-num\">2.1.1&nbsp;&nbsp;</span>Loading libraries and support functions</a></span></li><li><span><a href=\"#Algorithm-parameters\" data-toc-modified-id=\"Algorithm-parameters-2.1.2\"><span class=\"toc-item-num\">2.1.2&nbsp;&nbsp;</span>Algorithm parameters</a></span></li></ul></li><li><span><a href=\"#Problem-representation\" data-toc-modified-id=\"Problem-representation-2.2\"><span class=\"toc-item-num\">2.2&nbsp;&nbsp;</span>Problem representation</a></span></li><li><span><a href=\"#Initializing-the-algorithm\" data-toc-modified-id=\"Initializing-the-algorithm-2.3\"><span class=\"toc-item-num\">2.3&nbsp;&nbsp;</span>Initializing the algorithm</a></span></li><li><span><a href=\"#Solution-evaluation\" data-toc-modified-id=\"Solution-evaluation-2.4\"><span class=\"toc-item-num\">2.4&nbsp;&nbsp;</span>Solution evaluation</a></span></li><li><span><a href=\"#Function-rate_generation\" data-toc-modified-id=\"Function-rate_generation-2.5\"><span class=\"toc-item-num\">2.5&nbsp;&nbsp;</span>Function <code>rate_generation</code></a></span></li><li><span><a href=\"#Breed-children:-function-breed\" data-toc-modified-id=\"Breed-children:-function-breed-2.6\"><span class=\"toc-item-num\">2.6&nbsp;&nbsp;</span>Breed children: function <code>breed</code></a></span></li><li><span><a href=\"#Next-generation-function:-next_generation\" data-toc-modified-id=\"Next-generation-function:-next_generation-2.7\"><span class=\"toc-item-num\">2.7&nbsp;&nbsp;</span>Next generation function: <code>next_generation</code></a></span></li><li><span><a href=\"#Final-function:-solve_n_queens_problem\" data-toc-modified-id=\"Final-function:-solve_n_queens_problem-2.8\"><span class=\"toc-item-num\">2.8&nbsp;&nbsp;</span>Final function: <code>solve_n_queens_problem</code></a></span></li></ul></li><li><span><a href=\"#Part-2:-solving-the-n-queens-problem\" data-toc-modified-id=\"Part-2:-solving-the-n-queens-problem-3\"><span class=\"toc-item-num\">3&nbsp;&nbsp;</span>Part 2: solving the n-queens problem</a></span><ul class=\"toc-item\"><li><span><a href=\"#n-=-8\" data-toc-modified-id=\"n-=-8-3.1\"><span class=\"toc-item-num\">3.1&nbsp;&nbsp;</span>n = 8</a></span></li><li><span><a href=\"#n-=-20\" data-toc-modified-id=\"n-=-20-3.2\"><span class=\"toc-item-num\">3.2&nbsp;&nbsp;</span>n = 20</a></span></li><li><span><a href=\"#n-=-50\" data-toc-modified-id=\"n-=-50-3.3\"><span class=\"toc-item-num\">3.3&nbsp;&nbsp;</span>n = 50</a></span></li><li><span><a href=\"#n-=-100\" data-toc-modified-id=\"n-=-100-3.4\"><span class=\"toc-item-num\">3.4&nbsp;&nbsp;</span>n = 100</a></span></li></ul></li></ul></div>"
   ]
  },
  {
   "cell_type": "markdown",
   "metadata": {
    "colab_type": "text",
    "id": "4lMW2lAgNaSP"
   },
   "source": [
    "# [ELE 083] Evolutionary computation: N-queens problem\n",
    "\n",
    "- Hernane Braga Pereira - 2014112627\n",
    "\n",
    "__Problem statement:__\n",
    "\n",
    "Project a evolutionary algorithm to solve the n-queens problem. The N Queen is the problem of placing N chess queens on an N×N chessboard so that no two queens attack each other. For example, following is a representantion for 8 Queen problem:\n",
    "\n",
    "![Ilustração do problema das N­Rainhas com um tabuleiro 8x8.](https://miro.medium.com/max/875/1*tXuUHNvFZpw7K75GcbGrKQ.png)"
   ]
  },
  {
   "cell_type": "markdown",
   "metadata": {
    "colab_type": "text",
    "id": "hGH4uk1FgtYJ"
   },
   "source": [
    "---\n",
    "##  Notebook structure\n",
    "\n",
    "This notebook is divided in two parts:\n",
    "1. A step-by-step demonstration of each part of the solving algorithm\n",
    "2. Using the algorithm in different test scenarios.\n",
    "---"
   ]
  },
  {
   "cell_type": "markdown",
   "metadata": {
    "colab_type": "text",
    "id": "_25RGPHnl-RQ"
   },
   "source": [
    "# Part 1: step-by-step on functions\n",
    "\n",
    "In this sections the following topics will be presented:\n",
    "\n",
    "1. Setting up\n",
    "1. Problem representation\n",
    "2. Initialising alghorithm (`initialise_population`)\n",
    "3. Evaluating conflicts at the board (`rate_solution`)\n",
    "4. Rating generation (`rate_generation`)\n",
    "4. Breeding function (`breed`)\n",
    "5. Chosen next generation (`next_generation`)\n",
    "6. Solving the N-queens problem (`solve_n_queens_problem`)\n",
    "\n"
   ]
  },
  {
   "cell_type": "markdown",
   "metadata": {
    "colab_type": "text",
    "id": "ZlHfDU7FhE5m"
   },
   "source": [
    "## Setting up\n",
    "\n"
   ]
  },
  {
   "cell_type": "markdown",
   "metadata": {
    "colab_type": "text",
    "id": "rTww4Cck5fX7"
   },
   "source": [
    "### Loading libraries and support functions"
   ]
  },
  {
   "cell_type": "code",
   "execution_count": 1,
   "metadata": {
    "colab": {},
    "colab_type": "code",
    "executionInfo": {
     "elapsed": 2052,
     "status": "ok",
     "timestamp": 1597366860988,
     "user": {
      "displayName": "Hernane Braga",
      "photoUrl": "https://lh3.googleusercontent.com/a-/AOh14GgGYV8n82zxBCWqCbHGJBM2m2lTpmvHbGzq7PEB=s64",
      "userId": "18353069258073581241"
     },
     "user_tz": 180
    },
    "id": "bdxQ1a5YMXKX"
   },
   "outputs": [],
   "source": [
    "import numpy as np\n",
    "import math\n",
    "import pandas\n",
    "import matplotlib.pyplot as plt\n",
    "from matplotlib.table import Table"
   ]
  },
  {
   "cell_type": "markdown",
   "metadata": {
    "colab_type": "text",
    "id": "asxjRh-SqCub"
   },
   "source": [
    "__Function to plot solution as chess board__\n"
   ]
  },
  {
   "cell_type": "code",
   "execution_count": 2,
   "metadata": {
    "colab": {},
    "colab_type": "code",
    "executionInfo": {
     "elapsed": 1442,
     "status": "ok",
     "timestamp": 1597366863644,
     "user": {
      "displayName": "Hernane Braga",
      "photoUrl": "https://lh3.googleusercontent.com/a-/AOh14GgGYV8n82zxBCWqCbHGJBM2m2lTpmvHbGzq7PEB=s64",
      "userId": "18353069258073581241"
     },
     "user_tz": 180
    },
    "id": "lmdgC77LwCIp"
   },
   "outputs": [],
   "source": [
    "def plot_solution(solution):\n",
    "  # Function adapted from: https://stackoverflow.com/questions/10194482/custom-matplotlib-plot-chess-board-like-table-with-colored-cells\n",
    "    board_size = solution.shape[0]\n",
    "    board = np.zeros(shape=(board_size, board_size))\n",
    "    for j in range(board_size):\n",
    "        for i in range(board_size):\n",
    "            if(i == solution[j]):\n",
    "                board[i, j] = '1'\n",
    "    \n",
    "    data = pandas.DataFrame(board, columns=range(board_size))\n",
    "    data.replace({0: ' ', 1: 'Q'}, inplace=True)\n",
    "    checkerboard_table(data)\n",
    "    plt.show()\n",
    "\n",
    "def checkerboard_table(data, fmt='{}', bkg_colors=['silver', 'white']):\n",
    "    fig, ax = plt.subplots()\n",
    "    ax.set_axis_off()\n",
    "    tb = Table(ax, bbox=[0,0,1,1])\n",
    "\n",
    "    nrows, ncols = data.shape\n",
    "    width, height = 1.0 / ncols, 1.0 / nrows\n",
    "\n",
    "    # Add cells\n",
    "    for (i,j), val in np.ndenumerate(data):\n",
    "        # Index either the first or second item of bkg_colors based on\n",
    "        # a checker board pattern\n",
    "        idx = [j % 2, (j + 1) % 2][i % 2]\n",
    "        color = bkg_colors[idx]\n",
    "\n",
    "        tb.add_cell(i, j, width, height, text=fmt.format(val), \n",
    "                    loc='center', facecolor=color)\n",
    "\n",
    "    # Row Labels...\n",
    "    for i, label in enumerate(data.index):\n",
    "        tb.add_cell(i, -1, width, height, text=label, loc='right', \n",
    "                    edgecolor='none', facecolor='none')\n",
    "    # Column Labels...\n",
    "    for j, label in enumerate(data.columns):\n",
    "        tb.add_cell(-1, j, width, height/2, text=label, loc='center', \n",
    "                           edgecolor='none', facecolor='none')\n",
    "    ax.add_table(tb)\n",
    "    return fig"
   ]
  },
  {
   "cell_type": "markdown",
   "metadata": {
    "colab_type": "text",
    "id": "U4bAWxXjhy20"
   },
   "source": [
    "### Algorithm parameters\n",
    "\n",
    "The following paremeters must be defined:\n",
    "- Number of queens: `board_size`\n",
    "- Mutation chance: `mutation_chance`\n",
    "- Initial population size: `population_size`\n",
    "- Max iterations allowed: `generations`\n",
    "- Crossover point for children: `crossover_point`\n",
    "- Children number per generation : `children_number`"
   ]
  },
  {
   "cell_type": "code",
   "execution_count": 3,
   "metadata": {
    "colab": {},
    "colab_type": "code",
    "executionInfo": {
     "elapsed": 1418,
     "status": "ok",
     "timestamp": 1597366867002,
     "user": {
      "displayName": "Hernane Braga",
      "photoUrl": "https://lh3.googleusercontent.com/a-/AOh14GgGYV8n82zxBCWqCbHGJBM2m2lTpmvHbGzq7PEB=s64",
      "userId": "18353069258073581241"
     },
     "user_tz": 180
    },
    "id": "_uhemgLThL9O"
   },
   "outputs": [],
   "source": [
    "board_size = 8\n",
    "mutation_chance = 0.8\n",
    "population_size = 6\n",
    "generations = 10 \n",
    "crossover_point = 3\n",
    "children_number = 4"
   ]
  },
  {
   "cell_type": "markdown",
   "metadata": {
    "colab_type": "text",
    "id": "T-C9qAvAn5c3"
   },
   "source": [
    "## Problem representation\n",
    "\n",
    "For problem-solving, we'll represent the candidate solution as a vector of N positions. Each position represents a row of the chessboard, and the vector content has the chessboard column index.  An example is prsented in the image below:\n",
    "\n",
    "<img src=\"https://miro.medium.com/max/2800/1*pDIWPCG_we-0sqrr36sSZQ.jpeg\" alt=\"Drawing\" style=\"width: 320px;\"/>"
   ]
  },
  {
   "cell_type": "markdown",
   "metadata": {
    "colab_type": "text",
    "id": "3USOzmi5jWvW"
   },
   "source": [
    "## Initializing the algorithm\n",
    "\n",
    "The `initialise_population` function returns a matrix of size $ p $ $ x $ $ n $ where $ p $ is the number of candidate solutions in the population and $ n $ is the number of queens. They are filled with a permutation of the numbers from 1 to $ n $."
   ]
  },
  {
   "cell_type": "code",
   "execution_count": 4,
   "metadata": {
    "colab": {},
    "colab_type": "code",
    "executionInfo": {
     "elapsed": 1433,
     "status": "ok",
     "timestamp": 1597366870021,
     "user": {
      "displayName": "Hernane Braga",
      "photoUrl": "https://lh3.googleusercontent.com/a-/AOh14GgGYV8n82zxBCWqCbHGJBM2m2lTpmvHbGzq7PEB=s64",
      "userId": "18353069258073581241"
     },
     "user_tz": 180
    },
    "id": "aRDn_TsTi52D"
   },
   "outputs": [],
   "source": [
    "def initialise_population(population_size, board_size):\n",
    "    \"\"\"\n",
    "    Initialise population with random solutions\n",
    "        \n",
    "    Arguments:\n",
    "        population_size -- the size of population defined in the parameters\n",
    "        board_size -- the board size and number of queens\n",
    "        \n",
    "    Returns:\n",
    "        population -- a ndarray with randomly initialize solutions \n",
    "    \"\"\"\n",
    "    population = np.empty((population_size, board_size), int)\n",
    "\n",
    "    for i in range(population_size):\n",
    "        population[i, :] = np.random.permutation(board_size)\n",
    "    \n",
    "    return population"
   ]
  },
  {
   "cell_type": "markdown",
   "metadata": {
    "colab_type": "text",
    "id": "LrHOGNm05zPP"
   },
   "source": [
    "A initial solution given by the function:"
   ]
  },
  {
   "cell_type": "code",
   "execution_count": 5,
   "metadata": {
    "colab": {
     "base_uri": "https://localhost:8080/",
     "height": 280
    },
    "colab_type": "code",
    "executionInfo": {
     "elapsed": 1374,
     "status": "ok",
     "timestamp": 1597366880506,
     "user": {
      "displayName": "Hernane Braga",
      "photoUrl": "https://lh3.googleusercontent.com/a-/AOh14GgGYV8n82zxBCWqCbHGJBM2m2lTpmvHbGzq7PEB=s64",
      "userId": "18353069258073581241"
     },
     "user_tz": 180
    },
    "id": "g-2h8s6llMG8",
    "outputId": "418e464d-cc2a-452a-c2de-0d3a009f09bd"
   },
   "outputs": [
    {
     "name": "stdout",
     "output_type": "stream",
     "text": [
      "Representation:  [5 3 2 4 6 1 7 0]\n"
     ]
    },
    {
     "data": {
      "image/png": "[encoded data removed]",
      "text/plain": [
       "<Figure size 432x288 with 1 Axes>"
      ]
     },
     "metadata": {
      "needs_background": "light"
     },
     "output_type": "display_data"
    }
   ],
   "source": [
    "solutions = initialise_population(population_size, board_size)\n",
    "print(\"Representation: \", solutions[0])\n",
    "plot_solution(solutions[0])"
   ]
  },
  {
   "cell_type": "markdown",
   "metadata": {
    "colab_type": "text",
    "id": "CZh2g-yUln5G"
   },
   "source": [
    "## Solution evaluation\n",
    "\n",
    "The `rate_solution` function returns the number of conflicts on the board. Due to the nature of the other functions and the solutions' representation, there will never be conflicts in the vertical axis."
   ]
  },
  {
   "cell_type": "code",
   "execution_count": 6,
   "metadata": {
    "colab": {},
    "colab_type": "code",
    "executionInfo": {
     "elapsed": 1283,
     "status": "ok",
     "timestamp": 1597367378388,
     "user": {
      "displayName": "Hernane Braga",
      "photoUrl": "https://lh3.googleusercontent.com/a-/AOh14GgGYV8n82zxBCWqCbHGJBM2m2lTpmvHbGzq7PEB=s64",
      "userId": "18353069258073581241"
     },
     "user_tz": 180
    },
    "id": "_uXcbXW2mAzp"
   },
   "outputs": [],
   "source": [
    "def rate_solution(solution):\n",
    "    \"\"\"\n",
    "    Return the number of conflicts given a solution \n",
    "    \"\"\"\n",
    "    count = 0\n",
    "    \n",
    "    # Check diagonal conflicts\n",
    "    k = 0\n",
    "    for i in range(len(solution)):\n",
    "        k = i+1\n",
    "        aux1 = solution[i]+1\n",
    "        aux2 = solution[i]-1 \n",
    "        while ((aux1 < len(solution) or aux2 >= 0) and k < len(solution)):\n",
    "            if (solution[k] == aux1 or solution[k]==aux2):\n",
    "                count +=1\n",
    "            aux1 += 1\n",
    "            aux2 -= 1\n",
    "            k += 1\n",
    "    return count"
   ]
  },
  {
   "cell_type": "markdown",
   "metadata": {
    "colab_type": "text",
    "id": "-TPLx0Q87f7X"
   },
   "source": [
    "Example:"
   ]
  },
  {
   "cell_type": "code",
   "execution_count": 7,
   "metadata": {
    "colab": {
     "base_uri": "https://localhost:8080/",
     "height": 280
    },
    "colab_type": "code",
    "executionInfo": {
     "elapsed": 1371,
     "status": "ok",
     "timestamp": 1597367380352,
     "user": {
      "displayName": "Hernane Braga",
      "photoUrl": "https://lh3.googleusercontent.com/a-/AOh14GgGYV8n82zxBCWqCbHGJBM2m2lTpmvHbGzq7PEB=s64",
      "userId": "18353069258073581241"
     },
     "user_tz": 180
    },
    "id": "jyjLHKZT7kiF",
    "outputId": "481cb30c-7f6a-408d-d094-946573a61103"
   },
   "outputs": [
    {
     "name": "stdout",
     "output_type": "stream",
     "text": [
      "Number of conflicts:  4\n"
     ]
    },
    {
     "data": {
      "image/png": "[encoded data removed]",
      "text/plain": [
       "<Figure size 432x288 with 1 Axes>"
      ]
     },
     "metadata": {
      "needs_background": "light"
     },
     "output_type": "display_data"
    }
   ],
   "source": [
    "conflicts_example = rate_solution(solutions[0])\n",
    "print(\"Number of conflicts: \", conflicts_example)\n",
    "plot_solution(solutions[0])"
   ]
  },
  {
   "cell_type": "markdown",
   "metadata": {
    "colab_type": "text",
    "id": "2c4EVj-u8PdP"
   },
   "source": [
    "## Function `rate_generation`\n",
    "\n",
    "1. Receive the candidate solutions.\n",
    "2. Calculate the number of conflicts for each one.\n",
    "3. Returns the matrix of solutions ordered by the number of conflicts."
   ]
  },
  {
   "cell_type": "code",
   "execution_count": 8,
   "metadata": {
    "colab": {},
    "colab_type": "code",
    "executionInfo": {
     "elapsed": 854,
     "status": "ok",
     "timestamp": 1597367414868,
     "user": {
      "displayName": "Hernane Braga",
      "photoUrl": "https://lh3.googleusercontent.com/a-/AOh14GgGYV8n82zxBCWqCbHGJBM2m2lTpmvHbGzq7PEB=s64",
      "userId": "18353069258073581241"
     },
     "user_tz": 180
    },
    "id": "OiDt_Urc8qdo"
   },
   "outputs": [],
   "source": [
    "def rate_generation(solutions):\n",
    "    \"\"\"\n",
    "    Return the solutions ndarray sorted in ascending by the number of conflicts  \n",
    "    \"\"\"\n",
    "    population_size = solutions.shape[0]\n",
    "    conflicts = np.empty((population_size, 2), dtype=int)\n",
    "    conflicts[:, 0] = np.arange(population_size)\n",
    "    for i in range(population_size):\n",
    "        conflicts[i, 1] = rate_solution(solutions[i, :])\n",
    "    \n",
    "    # Sorting solutions by number of conflicts\n",
    "    conflicts_sorted = conflicts[conflicts[:,1].argsort()]\n",
    "    solutions_sorted = solutions[conflicts_sorted[:, 0], :]\n",
    "\n",
    "    return solutions_sorted, conflicts_sorted"
   ]
  },
  {
   "cell_type": "markdown",
   "metadata": {
    "colab_type": "text",
    "id": "ivIyFDhi-Bz-"
   },
   "source": [
    "Example:"
   ]
  },
  {
   "cell_type": "code",
   "execution_count": 9,
   "metadata": {
    "colab": {
     "base_uri": "https://localhost:8080/",
     "height": 449
    },
    "colab_type": "code",
    "executionInfo": {
     "elapsed": 902,
     "status": "ok",
     "timestamp": 1597367418349,
     "user": {
      "displayName": "Hernane Braga",
      "photoUrl": "https://lh3.googleusercontent.com/a-/AOh14GgGYV8n82zxBCWqCbHGJBM2m2lTpmvHbGzq7PEB=s64",
      "userId": "18353069258073581241"
     },
     "user_tz": 180
    },
    "id": "mQ19o9xz-Acm",
    "outputId": "076aa0d0-4604-4999-c418-a9121bb1de98"
   },
   "outputs": [
    {
     "name": "stdout",
     "output_type": "stream",
     "text": [
      "Solutions: \n",
      " [[5 3 2 4 6 1 7 0]\n",
      " [2 5 6 1 0 3 4 7]\n",
      " [5 0 2 1 7 3 4 6]\n",
      " [3 4 1 7 5 6 0 2]\n",
      " [1 5 2 4 3 6 7 0]\n",
      " [3 6 4 0 7 5 1 2]]\n",
      "\n",
      "Conflicts sorted: \n",
      "[idx, conflicts]\n",
      " [[0 4]\n",
      " [3 4]\n",
      " [5 4]\n",
      " [2 5]\n",
      " [1 6]\n",
      " [4 9]]\n",
      "\n",
      "Solutions sorted: \n",
      " [[5 3 2 4 6 1 7 0]\n",
      " [3 4 1 7 5 6 0 2]\n",
      " [3 6 4 0 7 5 1 2]\n",
      " [5 0 2 1 7 3 4 6]\n",
      " [2 5 6 1 0 3 4 7]\n",
      " [1 5 2 4 3 6 7 0]]\n"
     ]
    }
   ],
   "source": [
    "print(\"Solutions: \\n\", solutions)\n",
    "\n",
    "sorted_solutions, conflicts_sorted = rate_generation(solutions)\n",
    "print(\"\\nConflicts sorted: \\n[idx, conflicts]\\n\", conflicts_sorted)\n",
    "print(\"\\nSolutions sorted: \\n\", sorted_solutions)"
   ]
  },
  {
   "cell_type": "markdown",
   "metadata": {
    "colab_type": "text",
    "id": "ohrWKgfZkbWJ"
   },
   "source": [
    "## Breed children: function `breed`\n",
    "\n",
    "A function that returns the breed of two solutions given the mutation chance, and a crossover point.\n",
    "\n",
    "1. Analyzes the similarity between parents: positions that are the same are passed on. Those that are different receive a _flag_ of -1.\n",
    "\n",
    "2. If parents A and B are identical or without any similarity, a crossover is applied, where the cutoff point $ x $ is specified by the variable `crossover_point,` its default value is 3:\n",
    "     - Child A receives the first $ x $ values ​​from father A, and the rest are vector values ​​that are filled with _flag_ -1\n",
    "     - Son B receives the first $ x $ values ​​as _flag_ -1, and the rest comes from father B.\n",
    "\n",
    "\n",
    "3. The children are completed by traversing the vectors and checking if that position has a _flag_. If so, that position is filled by randomly choosing an element from the set of possible values. When selected, this element is removed from the collection of possibilities, thus avoiding repetition.\n",
    "\n",
    "4. Mutation is applied to children based on a probability of occurrence given by the variable `mutation_chance.` The mutation is a permutation between the elements of the new vector.\n",
    "\n",
    "5. The final check is made to ensure that child A is different from child B. If they are equal, child A receives the same crossover as specified in step 2."
   ]
  },
  {
   "cell_type": "code",
   "execution_count": 10,
   "metadata": {
    "colab": {},
    "colab_type": "code",
    "executionInfo": {
     "elapsed": 1043,
     "status": "ok",
     "timestamp": 1597367520631,
     "user": {
      "displayName": "Hernane Braga",
      "photoUrl": "https://lh3.googleusercontent.com/a-/AOh14GgGYV8n82zxBCWqCbHGJBM2m2lTpmvHbGzq7PEB=s64",
      "userId": "18353069258073581241"
     },
     "user_tz": 180
    },
    "id": "9cN-WPIjkgnM"
   },
   "outputs": [],
   "source": [
    "def breed(parent_A, parent_B, mutation_chance, crossover_point=3):\n",
    "    \"\"\"\n",
    "    Returns a numpy ndarray of 2 children\n",
    "\n",
    "    Arguments:\n",
    "        parent_A, parent_B -- the solutions candidate to breeding\n",
    "        crossover_point -- point to cut solution if parents are identical of totally different\n",
    "        mutation_chance -- chance of a child have mutation (between 0 and 1)\n",
    "    \"\"\"\n",
    "    board_size = len(parent_A)\n",
    "    children = np.empty((2, board_size), dtype=int)\n",
    "    same_gene = 0\n",
    "    set_A = set(np.arange(board_size))\n",
    "    set_B = set(np.arange(board_size))\n",
    "\n",
    "    # Checking same gene in parents\n",
    "    for i in np.arange(board_size):\n",
    "        if(parent_A[i] == parent_B[i]):\n",
    "            gene = parent_A[i]\n",
    "            children[0, i] = gene\n",
    "            children[1, i] = gene\n",
    "            set_A.remove(gene)\n",
    "            set_B.remove(gene)\n",
    "            same_gene +=1\n",
    "        else:\n",
    "            children[0, i] = -1\n",
    "            children[1, i] = -1\n",
    "\n",
    "    # if parent A is identical to parent B, then get the first 'crossover_point' numbers in each parent\n",
    "    if(same_gene == board_size or same_gene == 0):\n",
    "        set_A = set(np.arange(board_size))\n",
    "        set_B = set(np.arange(board_size))\n",
    "        \n",
    "        # Child A\n",
    "        children[0, 0:crossover_point] = parent_A[0:crossover_point]\n",
    "        children[0, crossover_point:board_size] = -1\n",
    "        set_A.difference_update(children[0, 0:crossover_point])\n",
    "\n",
    "        # Child B\n",
    "        children[1, crossover_point:board_size] = parent_B[crossover_point:board_size]\n",
    "        children[1, 0:crossover_point] = -1\n",
    "        set_B.difference_update(children[1, crossover_point:board_size])\n",
    "\n",
    "\n",
    "    # Completing children with permutation\n",
    "    for i in range(board_size):\n",
    "        if(children[0, i] == -1):\n",
    "            r = np.random.randint(len(set_A))\n",
    "            new_gene = list(set_A)[r]\n",
    "            children[0, i] = new_gene\n",
    "            set_A.remove(new_gene)\n",
    "        \n",
    "        if(children[1, i] == -1):\n",
    "            r = np.random.randint(len(set_B))\n",
    "            new_gene = list(set_B)[r]\n",
    "            children[1, i] = new_gene\n",
    "            set_B.remove(new_gene)\n",
    "\n",
    "    \n",
    "    # Applying mutation: a randomly permutation on children indexes \n",
    "    # Chance of child B have mutation = mutation_chance*mutation_chance\n",
    "    r = np.random.rand(1)\n",
    "    if(r <= mutation_chance):\n",
    "        position_1 = np.random.randint(board_size)\n",
    "        position_2 = np.random.randint(board_size)\n",
    "        children[1, position_1], children[1, position_2] = children[1, position_2], children[1, position_1]\n",
    "        \n",
    "        r = np.random.rand(1)\n",
    "        if(r <= mutation_chance):\n",
    "            position_1 = np.random.randint(board_size)\n",
    "            position_2 = np.random.randint(board_size)\n",
    "            children[0, position_1], children[0, position_2] = children[0, position_2], children[0, position_1]\n",
    "\n",
    "            \n",
    "    # Final check to make suse children are not igual. If so apply crossover using the crossover_point in child A\n",
    "    if(np.array_equal(children[0], children[1])):\n",
    "        set_A = set(np.arange(board_size))\n",
    "        children[0, 0:crossover_point] = parent_A[0:crossover_point]\n",
    "        children[0, crossover_point:board_size] = -1\n",
    "        set_A.difference_update(children[0, 0:crossover_point])\n",
    "        for i in range(board_size):\n",
    "            if(children[0, i] == -1):\n",
    "                r = np.random.randint(len(set_A))\n",
    "                new_gene = list(set_A)[r]\n",
    "                children[0, i] = new_gene\n",
    "                set_A.remove(new_gene)\n",
    "    \n",
    "    return children"
   ]
  },
  {
   "cell_type": "markdown",
   "metadata": {
    "colab_type": "text",
    "id": "baL-nX-V7NDX"
   },
   "source": [
    "__Function use cases:__\n",
    "\n",
    "- Parents with some similarity and no chance of mutation.\n",
    "- Identical parents. \n",
    "- Completely different parents.\n"
   ]
  },
  {
   "cell_type": "code",
   "execution_count": 11,
   "metadata": {
    "colab": {
     "base_uri": "https://localhost:8080/",
     "height": 521
    },
    "colab_type": "code",
    "executionInfo": {
     "elapsed": 1421,
     "status": "ok",
     "timestamp": 1597367524690,
     "user": {
      "displayName": "Hernane Braga",
      "photoUrl": "https://lh3.googleusercontent.com/a-/AOh14GgGYV8n82zxBCWqCbHGJBM2m2lTpmvHbGzq7PEB=s64",
      "userId": "18353069258073581241"
     },
     "user_tz": 180
    },
    "id": "Cod0mpy2ZyNM",
    "outputId": "dfd8e93b-2e0a-4193-df08-b1266d61c584"
   },
   "outputs": [
    {
     "name": "stdout",
     "output_type": "stream",
     "text": [
      "Parents with at least one equal gene and mutation_chance = 0:\n",
      "\n",
      "Parent A: [0 1 2 3 4 5 6 7]\n",
      "Parent B: [0 7 4 3 2 6 5 1]\n",
      "\n",
      "Children: \n",
      " [[0 2 1 3 7 5 4 6]\n",
      " [0 6 1 3 7 4 5 2]]\n",
      "\n",
      "...............\n",
      "Identical parents:\n",
      "\n",
      "Parent A: [0 1 2 3 4 5 6 7]\n",
      "Parent B: [0 1 2 3 4 5 6 7]\n",
      "\n",
      "Children: \n",
      " [[0 1 2 4 6 7 3 5]\n",
      " [0 4 1 3 2 5 6 7]]\n",
      "\n",
      "...............\n",
      "Totally different parents:\n",
      "\n",
      "Parent A: [0 1 2 3 4 5 6 7]\n",
      "Parent B: [7 6 5 4 3 2 1 0]\n",
      "\n",
      "Children: \n",
      " [[5 1 2 0 7 3 4 6]\n",
      " [5 6 7 0 3 2 1 4]]\n"
     ]
    }
   ],
   "source": [
    "print(\"Parents with at least one equal gene and mutation_chance = 0:\\n\")\n",
    "parent_A = np.array([0, 1, 2, 3, 4, 5, 6, 7])\n",
    "parent_B = np.array([0, 7, 4, 3, 2, 6, 5, 1])\n",
    "\n",
    "print(\"Parent A:\", parent_A)\n",
    "print(\"Parent B:\",parent_B)\n",
    "print(\"\\nChildren: \\n\", breed(parent_A, parent_B, 0, crossover_point))\n",
    "\n",
    "\n",
    "print(\"\\n...............\\nIdentical parents:\\n\")\n",
    "parent_A = np.arange(board_size)\n",
    "parent_B = np.arange(board_size)\n",
    "\n",
    "print(\"Parent A:\", parent_A)\n",
    "print(\"Parent B:\",parent_B)\n",
    "print(\"\\nChildren: \\n\", breed(parent_A, parent_B, mutation_chance, crossover_point))\n",
    "\n",
    "\n",
    "print(\"\\n...............\\nTotally different parents:\\n\")\n",
    "parent_A = np.arange(board_size)\n",
    "parent_B = np.arange(board_size-1, -1, -1)\n",
    "\n",
    "print(\"Parent A:\", parent_A)\n",
    "print(\"Parent B:\",parent_B)\n",
    "print(\"\\nChildren: \\n\", breed(parent_A, parent_B, mutation_chance, crossover_point))\n"
   ]
  },
  {
   "cell_type": "markdown",
   "metadata": {
    "colab_type": "text",
    "id": "g_9bAdUPSspl"
   },
   "source": [
    "## Next generation function: `next_generation`\n",
    "\n",
    "\n",
    "A matrix with the candidate solutions ordered is received:\n",
    "\n",
    "1. Select the best solutions for generating children.\n",
    "2. $ m $ children are generated from the chosen solutions.\n",
    "3. Discard the $ m $ worst candidate solutions and replace them with the children generated.\n",
    "3. Return an array of size $ p $ $ x $ $ n $ where $ p $ is the number of new generation solutions and $ n $ the number of queens.\n"
   ]
  },
  {
   "cell_type": "code",
   "execution_count": 12,
   "metadata": {
    "colab": {},
    "colab_type": "code",
    "executionInfo": {
     "elapsed": 924,
     "status": "ok",
     "timestamp": 1597367571886,
     "user": {
      "displayName": "Hernane Braga",
      "photoUrl": "https://lh3.googleusercontent.com/a-/AOh14GgGYV8n82zxBCWqCbHGJBM2m2lTpmvHbGzq7PEB=s64",
      "userId": "18353069258073581241"
     },
     "user_tz": 180
    },
    "id": "QM-4lgqBcjkV"
   },
   "outputs": [],
   "source": [
    "def next_generation(solutions, children_number, mutation_chance):\n",
    "    \"\"\"\n",
    "    Choose the best solutions in a generation, breed them and return a new generation of solutions, eliminating the least fit\n",
    "    \n",
    "    Arguments:\n",
    "        solutions -- a ndarray with the solutions of a generation \n",
    "        children_number -- number of children that will be evaluated\n",
    "        mutation_chance -- chance of a child have mutation (between 0 and 1)\n",
    "        \n",
    "    Returns:\n",
    "        next_generation -- a ndarray with new solutions\n",
    "    \"\"\"\n",
    "    # Breeding the best solutions\n",
    "    if(children_number%2 != 0):\n",
    "        children_number -=1\n",
    "    \n",
    "    children = np.empty((children_number, solutions.shape[1]), dtype=int)\n",
    "    for i in range(children_number - 1):\n",
    "        parent_A = solutions[i, :]\n",
    "        parent_B = solutions[i+1, :]\n",
    "        children[i:i+2, :] = breed(parent_A, parent_B, mutation_chance, crossover_point)\n",
    "        \n",
    "    # Create next generation\n",
    "    next_generation = np.copy(solutions)\n",
    "    population_size = next_generation.shape[0]\n",
    "    next_generation[population_size-children_number:population_size, :] = children\n",
    "\n",
    "    return next_generation"
   ]
  },
  {
   "cell_type": "markdown",
   "metadata": {
    "colab_type": "text",
    "id": "Qf4tQoIara1B"
   },
   "source": [
    "__Result of the function below:__\n",
    "\n",
    "It is noticed that the new generation is composed of pairs of solutions that are at the top of the ordered solutions."
   ]
  },
  {
   "cell_type": "code",
   "execution_count": 13,
   "metadata": {
    "colab": {
     "base_uri": "https://localhost:8080/",
     "height": 323
    },
    "colab_type": "code",
    "executionInfo": {
     "elapsed": 874,
     "status": "ok",
     "timestamp": 1597367575527,
     "user": {
      "displayName": "Hernane Braga",
      "photoUrl": "https://lh3.googleusercontent.com/a-/AOh14GgGYV8n82zxBCWqCbHGJBM2m2lTpmvHbGzq7PEB=s64",
      "userId": "18353069258073581241"
     },
     "user_tz": 180
    },
    "id": "KI9EHHOWU0SK",
    "outputId": "b59e95a3-44db-445f-813d-e32483472f96"
   },
   "outputs": [
    {
     "name": "stdout",
     "output_type": "stream",
     "text": [
      "Sorted solutions: \n",
      " [[5 3 2 4 6 1 7 0]\n",
      " [3 4 1 7 5 6 0 2]\n",
      " [3 6 4 0 7 5 1 2]\n",
      " [5 0 2 1 7 3 4 6]\n",
      " [2 5 6 1 0 3 4 7]\n",
      " [1 5 2 4 3 6 7 0]]\n",
      "\n",
      "Children number:  4\n",
      "\n",
      "New generation: \n",
      " [[5 3 2 4 6 1 7 0]\n",
      " [3 4 1 7 5 6 0 2]\n",
      " [5 3 2 0 4 7 6 1]\n",
      " [3 0 1 7 6 4 5 2]\n",
      " [2 4 5 6 7 3 0 1]\n",
      " [0 2 3 6 7 1 4 5]]\n"
     ]
    }
   ],
   "source": [
    "print(\"Sorted solutions: \\n\",sorted_solutions)\n",
    "\n",
    "children_number = 4\n",
    "new_generation = next_generation(sorted_solutions, children_number, mutation_chance)\n",
    "\n",
    "print(\"\\nChildren number: \", children_number)\n",
    "print(\"\\nNew generation: \\n\", new_generation)"
   ]
  },
  {
   "cell_type": "markdown",
   "metadata": {
    "colab_type": "text",
    "id": "frriwzZ-Ev6U"
   },
   "source": [
    "## Final function: `solve_n_queens_problem`\n",
    "\n",
    "Receives the input parameters and performs the following actions:\n",
    "\n",
    "1. Initialize the algorithm with random solutions.\n",
    "2. Evaluate the generated solutions.\n",
    "3. Until you find the final solution or the maximum number of generations is not met, do:\n",
    "  1. Combine the best solutions by generating $ m $ children.\n",
    "  2. Discard the worst $ m $ solutions.\n",
    "  3. Evaluate the solutions developed.\n",
    "\n",
    "In the end, a value of type _bool_ is returned, informing if the final solution was found, the best generation solution, and a log of fit value for generations."
   ]
  },
  {
   "cell_type": "code",
   "execution_count": 14,
   "metadata": {
    "colab": {},
    "colab_type": "code",
    "executionInfo": {
     "elapsed": 908,
     "status": "ok",
     "timestamp": 1597367606461,
     "user": {
      "displayName": "Hernane Braga",
      "photoUrl": "https://lh3.googleusercontent.com/a-/AOh14GgGYV8n82zxBCWqCbHGJBM2m2lTpmvHbGzq7PEB=s64",
      "userId": "18353069258073581241"
     },
     "user_tz": 180
    },
    "id": "cuv2hucHBNNl"
   },
   "outputs": [],
   "source": [
    "def solve_n_queens_problem(board_size, generations, population_size, children_number, mutation_chance, crossover_point):\n",
    "    \"\"\"\n",
    "    Solve the n-queens problem.  \n",
    "\n",
    "    Arguments:\n",
    "        board_size -- the board size / number of queens\n",
    "        generations -- total number of generations\n",
    "        population_size -- the number of candidate solutions\n",
    "        children_number -- number of children to be bred\n",
    "        mutation_chance -- chance of a child have mutation (between 0 and 1)\n",
    "        crossover_point -- point to cut solution if parents are identical or totally different\n",
    "\n",
    "    Returns:\n",
    "        solution_found -- a bool value indicating if the solution was found\n",
    "        best_solution -- the best solution found\n",
    "        generations_log -- a matrix with the log of generations and fit values\n",
    "        mean_fit_generations_log - the mean fit value from each generation\n",
    "    \"\"\"\n",
    "    generations_log = np.zeros((generations, 2))\n",
    "    mean_fit_generations_log = np.zeros((generations, 2))\n",
    "    i = 1\n",
    "    solution_found = False\n",
    "    \n",
    "    # Initialising population with random solutions\n",
    "    inicial_solution = initialise_population(population_size, board_size)\n",
    "    solutions_sorted, conflicts_sorted = rate_generation(inicial_solution)\n",
    "    \n",
    "    while(i <= generations or solution_found == True):\n",
    "        # Evaluate generation\n",
    "        best_fit = conflicts_sorted[0, 1]\n",
    "        mean_fit_generation = np.mean(conflicts_sorted[:, 1])\n",
    "        \n",
    "        best_solution = solutions_sorted[0]\n",
    "        generations_log[i-1, 0] = i\n",
    "        generations_log[i-1, 1] = best_fit\n",
    "        \n",
    "        mean_fit_generations_log[i-1, 0] = i\n",
    "        mean_fit_generations_log[i-1, 1] = mean_fit_generation\n",
    "\n",
    "        # Check if there's a final solution\n",
    "        if(best_fit == 0):\n",
    "            solution_found = True\n",
    "            break\n",
    "\n",
    "        # Create next generation\n",
    "        else:\n",
    "            new_generation = next_generation(solutions_sorted, children_number, mutation_chance)\n",
    "            solutions_sorted, conflicts_sorted = rate_generation(new_generation)\n",
    "            i += 1\n",
    "\n",
    "    generations_log = generations_log[0:i,:]\n",
    "    mean_fit_generations_log = mean_fit_generations_log[0:i,:]\n",
    "    \n",
    "    return solution_found, best_solution, generations_log, mean_fit_generations_log"
   ]
  },
  {
   "cell_type": "markdown",
   "metadata": {
    "colab_type": "text",
    "id": "06xx_GGtD6iT"
   },
   "source": [
    "# Part 2: solving the n-queens problem\n",
    "\n",
    "Space to try the algorithm with different parameters. A function below will show the results and the solution log.\n",
    "\n"
   ]
  },
  {
   "cell_type": "code",
   "execution_count": 15,
   "metadata": {},
   "outputs": [],
   "source": [
    "def show_results(solution_found, best_solution, log, mean_log):\n",
    "    if(solution_found):\n",
    "        print(\"Solution found!\\n\")\n",
    "    else:\n",
    "        print(\"Solution not found :(\\n\")\n",
    "\n",
    "    plot_solution(best_solution)\n",
    "\n",
    "    plt.title(\"Generations log:\")\n",
    "    plt.xlabel(\"Generations\")\n",
    "    plt.ylabel(\"Number of conflicts\")\n",
    "    plt.plot(log[:,0], log[:,1], 'b-', label='Best')\n",
    "    plt.plot(mean_log[:,0], mean_log[:,1], 'g-', label='Mean')\n",
    "    plt.legend()\n",
    "\n",
    "    plt.show()"
   ]
  },
  {
   "cell_type": "markdown",
   "metadata": {},
   "source": [
    "## n = 8 "
   ]
  },
  {
   "cell_type": "code",
   "execution_count": 16,
   "metadata": {
    "colab": {
     "base_uri": "https://localhost:8080/",
     "height": 571
    },
    "colab_type": "code",
    "executionInfo": {
     "elapsed": 2934,
     "status": "ok",
     "timestamp": 1597367630633,
     "user": {
      "displayName": "Hernane Braga",
      "photoUrl": "https://lh3.googleusercontent.com/a-/AOh14GgGYV8n82zxBCWqCbHGJBM2m2lTpmvHbGzq7PEB=s64",
      "userId": "18353069258073581241"
     },
     "user_tz": 180
    },
    "id": "VwbWO2SOJOGY",
    "outputId": "cc60b41e-88ad-4fe4-bc60-150ecc01fe7c"
   },
   "outputs": [
    {
     "name": "stdout",
     "output_type": "stream",
     "text": [
      "Solution found!\n",
      "\n"
     ]
    },
    {
     "data": {
      "image/png": "[encoded data removed]",
      "text/plain": [
       "<Figure size 432x288 with 1 Axes>"
      ]
     },
     "metadata": {
      "needs_background": "light"
     },
     "output_type": "display_data"
    },
    {
     "data": {
      "image/png": "[encoded data removed]",
      "text/plain": [
       "<Figure size 432x288 with 1 Axes>"
      ]
     },
     "metadata": {
      "needs_background": "light"
     },
     "output_type": "display_data"
    }
   ],
   "source": [
    "board_size = 8\n",
    "mutation_chance = 0.8\n",
    "population_size = 20\n",
    "generations = 100\n",
    "crossover_point = 3\n",
    "children_number = 15\n",
    "\n",
    "solution_found, best_solution, log, mean_log = solve_n_queens_problem(board_size, generations, population_size, \n",
    "                                                            children_number, mutation_chance, crossover_point)\n",
    "\n",
    "show_results(solution_found, best_solution, log, mean_log)"
   ]
  },
  {
   "cell_type": "markdown",
   "metadata": {},
   "source": [
    "## n = 20"
   ]
  },
  {
   "cell_type": "code",
   "execution_count": 17,
   "metadata": {
    "colab": {},
    "colab_type": "code",
    "executionInfo": {
     "elapsed": 83866,
     "status": "aborted",
     "timestamp": 1597366782164,
     "user": {
      "displayName": "Hernane Braga",
      "photoUrl": "https://lh3.googleusercontent.com/a-/AOh14GgGYV8n82zxBCWqCbHGJBM2m2lTpmvHbGzq7PEB=s64",
      "userId": "18353069258073581241"
     },
     "user_tz": 180
    },
    "id": "2gp_uuo808Od"
   },
   "outputs": [
    {
     "name": "stdout",
     "output_type": "stream",
     "text": [
      "Solution found!\n",
      "\n"
     ]
    },
    {
     "data": {
      "image/png": "[encoded data removed]",
      "text/plain": [
       "<Figure size 432x288 with 1 Axes>"
      ]
     },
     "metadata": {
      "needs_background": "light"
     },
     "output_type": "display_data"
    },
    {
     "data": {
      "image/png": "[encoded data removed]",
      "text/plain": [
       "<Figure size 432x288 with 1 Axes>"
      ]
     },
     "metadata": {
      "needs_background": "light"
     },
     "output_type": "display_data"
    }
   ],
   "source": [
    "board_size = 20\n",
    "mutation_chance = 0.3\n",
    "population_size = 100\n",
    "generations = 500\n",
    "crossover_point = 12\n",
    "children_number = 60\n",
    "\n",
    "solution_found, best_solution, log, mean_log = solve_n_queens_problem(board_size, generations, population_size, \n",
    "                                                            children_number, mutation_chance, crossover_point)\n",
    "\n",
    "show_results(solution_found, best_solution, log, mean_log)"
   ]
  },
  {
   "cell_type": "markdown",
   "metadata": {},
   "source": [
    "## n = 50\n",
    "_(it may take a while, about 5 minutes)_"
   ]
  },
  {
   "cell_type": "code",
   "execution_count": 18,
   "metadata": {},
   "outputs": [
    {
     "name": "stdout",
     "output_type": "stream",
     "text": [
      "Solution found!\n",
      "\n"
     ]
    },
    {
     "data": {
      "image/png": "[encoded data removed]",
      "text/plain": [
       "<Figure size 432x288 with 1 Axes>"
      ]
     },
     "metadata": {
      "needs_background": "light"
     },
     "output_type": "display_data"
    },
    {
     "data": {
      "image/png": "[encoded data removed]",
      "text/plain": [
       "<Figure size 432x288 with 1 Axes>"
      ]
     },
     "metadata": {
      "needs_background": "light"
     },
     "output_type": "display_data"
    }
   ],
   "source": [
    "board_size = 50\n",
    "mutation_chance = 0.3\n",
    "population_size = 300\n",
    "generations = 3000\n",
    "crossover_point = 32\n",
    "children_number = 260\n",
    "\n",
    "solution_found, best_solution, log, mean_log = solve_n_queens_problem(board_size, generations, population_size, \n",
    "                                                            children_number, mutation_chance, crossover_point)\n",
    "\n",
    "show_results(solution_found, best_solution, log, mean_log)"
   ]
  },
  {
   "cell_type": "markdown",
   "metadata": {},
   "source": [
    "## n = 100\n",
    "\n",
    "After 7h a solution with 25 conflicts was found using the following parameters:\n",
    "\n",
    "``board_size = 100\n",
    "mutation_chance = 0.3\n",
    "population_size = 400\n",
    "generations = 10000\n",
    "crossover_point = 42\n",
    "children_number = 360\n",
    "``\n",
    "\n",
    "\n",
    "Below is shown the application with few generations"
   ]
  },
  {
   "cell_type": "code",
   "execution_count": 20,
   "metadata": {
    "scrolled": true
   },
   "outputs": [
    {
     "name": "stdout",
     "output_type": "stream",
     "text": [
      "Solution not found :(\n",
      "\n"
     ]
    },
    {
     "data": {
      "image/png": "[encoded data removed]",
      "text/plain": [
       "<Figure size 432x288 with 1 Axes>"
      ]
     },
     "metadata": {
      "needs_background": "light"
     },
     "output_type": "display_data"
    },
    {
     "data": {
      "image/png": "[encoded data removed]",
      "text/plain": [
       "<Figure size 432x288 with 1 Axes>"
      ]
     },
     "metadata": {
      "needs_background": "light"
     },
     "output_type": "display_data"
    }
   ],
   "source": [
    "board_size = 100\n",
    "mutation_chance = 0.3\n",
    "population_size = 400\n",
    "generations = 300\n",
    "crossover_point = 42\n",
    "children_number = 120\n",
    "\n",
    "solution_found, best_solution, log, mean_log = solve_n_queens_problem(board_size, generations, population_size, \n",
    "                                                            children_number, mutation_chance, crossover_point)\n",
    "\n",
    "show_results(solution_found, best_solution, log, mean_log)"
   ]
  },
  {
   "cell_type": "code",
   "execution_count": null,
   "metadata": {},
   "outputs": [],
   "source": []
  },
  {
   "cell_type": "code",
   "execution_count": null,
   "metadata": {},
   "outputs": [],
   "source": []
  }
 ],
 "metadata": {
  "colab": {
   "collapsed_sections": [],
   "name": "N_Queens_Problem.ipynb",
   "provenance": [],
   "toc_visible": true
  },
  "kernelspec": {
   "display_name": "Python 3",
   "language": "python",
   "name": "python3"
  },
  "language_info": {
   "codemirror_mode": {
    "name": "ipython",
    "version": 3
   },
   "file_extension": ".py",
   "mimetype": "text/x-python",
   "name": "python",
   "nbconvert_exporter": "python",
   "pygments_lexer": "ipython3",
   "version": "3.7.7"
  },
  "latex_envs": {
   "LaTeX_envs_menu_present": true,
   "autoclose": false,
   "autocomplete": true,
   "bibliofile": "biblio.bib",
   "cite_by": "apalike",
   "current_citInitial": 1,
   "eqLabelWithNumbers": true,
   "eqNumInitial": 1,
   "hotkeys": {
    "equation": "Ctrl-E",
    "itemize": "Ctrl-I"
   },
   "labels_anchors": false,
   "latex_user_defs": false,
   "report_style_numbering": false,
   "user_envs_cfg": false
  },
  "toc": {
   "base_numbering": 1,
   "nav_menu": {},
   "number_sections": true,
   "sideBar": true,
   "skip_h1_title": false,
   "title_cell": "Table of Contents",
   "title_sidebar": "Contents",
   "toc_cell": true,
   "toc_position": {},
   "toc_section_display": true,
   "toc_window_display": false
  }
 },
 "nbformat": 4,
 "nbformat_minor": 1
}
