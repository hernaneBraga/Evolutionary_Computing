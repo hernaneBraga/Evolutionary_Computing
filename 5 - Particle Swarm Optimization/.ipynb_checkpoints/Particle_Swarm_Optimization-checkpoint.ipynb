{
 "cells": [
  {
   "cell_type": "markdown",
   "metadata": {
    "toc": true
   },
   "source": [
    "<h1>Sumário<span class=\"tocSkip\"></span></h1>\n",
    "<div class=\"toc\"><ul class=\"toc-item\"><li><span><a href=\"#Resultados-do-algoritmo-para-n=5-durante-3-épocas\" data-toc-modified-id=\"Resultados-do-algoritmo-para-n=5-durante-3-épocas-1\"><span class=\"toc-item-num\">1&nbsp;&nbsp;</span>Resultados do algoritmo para n=5 durante 3 épocas</a></span></li><li><span><a href=\"#Função-final:-particle_swarm_optimization\" data-toc-modified-id=\"Função-final:-particle_swarm_optimization-2\"><span class=\"toc-item-num\">2&nbsp;&nbsp;</span>Função final: <code>particle_swarm_optimization</code></a></span></li><li><span><a href=\"#Função-peaks\" data-toc-modified-id=\"Função-peaks-3\"><span class=\"toc-item-num\">3&nbsp;&nbsp;</span>Função peaks</a></span></li><li><span><a href=\"#Função-rastrigin\" data-toc-modified-id=\"Função-rastrigin-4\"><span class=\"toc-item-num\">4&nbsp;&nbsp;</span>Função rastrigin</a></span></li></ul></div>"
   ]
  },
  {
   "cell_type": "markdown",
   "metadata": {
    "hide_input": false
   },
   "source": [
    "---\n",
    "# [ELE 083] Computação Evolucionária: Trabalho Prático 4\n",
    "__Aluno:__\n",
    "- Hernane Braga Pereira - 2014112627\n",
    "\n",
    "---\n",
    "# Enunciado\n",
    "\n",
    "Implementar o algoritmo Particle Swarm Optimization (PSO) e testar para as seguintes funções:\n",
    "\n",
    "- **Peaks**: para -3 <= x1 <= 3, -3 <= x2 <= 3 com N = 100; mínimo global em\n",
    "x\\*=[0.228,­1.625] com f(x*) = -6.5511.\n",
    "\n",
    "\n",
    "- **Rastrigin**: para -2 <= x1 <= 2, -2 <= x2 <= 3 com N = 100; mínimo global em\n",
    "x\\*=[0, 0] com f(x*) = -20.\n",
    "\n",
    "**Carregando bibliotecas e definindo funções de teste**"
   ]
  },
  {
   "cell_type": "code",
   "execution_count": 1,
   "metadata": {},
   "outputs": [],
   "source": [
    "import numpy as np\n",
    "from matplotlib import pyplot as plt"
   ]
  },
  {
   "cell_type": "code",
   "execution_count": 2,
   "metadata": {},
   "outputs": [],
   "source": [
    "def rastrigin(x):\n",
    "    Q = np.identity(len(x))\n",
    "    X = Q @ x\n",
    "    n = len(x)\n",
    "    F = 0\n",
    "\n",
    "    for i in range(n):\n",
    "        F = F + X[i] ** 2 - 10 * np.cos(2 * np.pi * X[i])\n",
    "    return F"
   ]
  },
  {
   "cell_type": "code",
   "execution_count": 3,
   "metadata": {},
   "outputs": [],
   "source": [
    "def peaks(X):\n",
    "    x = X[0]\n",
    "    y = X[1]\n",
    "    exp_1 = 3 * (1 - x) ** 2 * np.exp(- (x ** 2) - (y + 1) ** 2)\n",
    "    exp_2 = 10 * (x / 5 - x ** 3 - y ** 5) * np.exp(-(x ** 2) - (y ** 2))\n",
    "    exp_3 = (1 / 3) * np.exp(-(x + 1) ** 2 - (y ** 2))\n",
    "    return exp_1 - exp_2 - exp_3"
   ]
  },
  {
   "cell_type": "markdown",
   "metadata": {},
   "source": [
    "---\n",
    "#  Particle Swarm Optimization (PSO)"
   ]
  },
  {
   "cell_type": "markdown",
   "metadata": {},
   "source": [
    "## Resultados do algoritmo para n=5 durante 3 épocas\n",
    "\n",
    "Passos do algorimo:\n",
    "\n",
    "1. Iniciar a população de partículas\n",
    "2. Durante o número total de épocas:\n",
    "    - **Para cada partícula:**\n",
    "        1. Avaliar o valor da solução\n",
    "        2. Verificar se é a melhor solução até o momento. Se for, atualiza `best_position`\n",
    "        3. Atualizar o valor do vetor de velocidade para cada dimensão da partícula:\n",
    "            1. Calcula novo valor de velocidade\n",
    "            2. Verifica se os limites da função estão sendo respeitados, senão impoem o valor como sendo o limite\n",
    "        4. Atualiza a posição da partícula de acordo com o novo vetor de velocidade"
   ]
  },
  {
   "cell_type": "code",
   "execution_count": 4,
   "metadata": {},
   "outputs": [
    {
     "name": "stdout",
     "output_type": "stream",
     "text": [
      "Inicial population:\n",
      "\n",
      " [[ 1.80247816 -0.43815197]\n",
      " [-1.48961915  0.26657349]\n",
      " [ 1.65854948 -1.12936992]\n",
      " [-1.05606207 -1.25905018]\n",
      " [ 0.09731346 -1.22399282]]\n",
      "\n",
      "#########################\n",
      "epoch: 1\n",
      "\n",
      "i\tfit solution\tbest fit\t\tpositon\t\tvelocity\n",
      "-----\n",
      "0 \t 1.81 \t\t 1.81 \t [ 1.80247816 -0.43815197] \t [ 0.0148458  -0.36002484]\n",
      "-----\n",
      "1 \t -2.88 \t\t -2.88 \t [-1.48961915  0.26657349] \t [0.10444782 0.93990864]\n",
      "-----\n",
      "2 \t 0.51 \t\t -2.88 \t [ 1.65854948 -1.12936992] \t [1.57079626 1.21915669]\n",
      "-----\n",
      "3 \t 1.05 \t\t -2.88 \t [-1.05606207 -1.25905018] \t [-1.16712361  1.09917104]\n",
      "-----\n",
      "4 \t -3.84 \t\t -3.84 \t [ 0.09731346 -1.22399282] \t [-0.75885294  0.29504768]\n",
      "\n",
      "#########################\n",
      "epoch: 2\n",
      "\n",
      "i\tfit solution\tbest fit\t\tpositon\t\tvelocity\n",
      "-----\n",
      "0 \t 1.31 \t\t -3.84 \t [ 1.81330075 -0.70061008] \t [ 0.01082259 -0.26245811]\n",
      "-----\n",
      "1 \t -1.03 \t\t -3.84 \t [-1.41347669  0.95176689] \t [0.07614246 0.6851934 ]\n",
      "-----\n",
      "2 \t 2.25 \t\t -3.84 \t [-0.34145052  0.87063008] \t [-2.  2.]\n",
      "-----\n",
      "3 \t -0.09 \t\t -3.84 \t [-2.68019011  0.74094982] \t [-1.62412805  2.        ]\n",
      "-----\n",
      "4 \t 2.0 \t\t -3.84 \t [-0.45589033 -1.00890306] \t [-0.55320379  0.21508976]\n",
      "\n",
      "#########################\n",
      "epoch: 3\n",
      "\n",
      "i\tfit solution\tbest fit\t\tpositon\t\tvelocity\n",
      "-----\n",
      "0 \t -3.6 \t\t -3.84 \t [ 0.3344923  -2.16645233] \t [-1.47880845 -1.46584225]\n",
      "-----\n",
      "1 \t -2.44 \t\t -3.84 \t [ 0.58652331 -1.04823311] \t [ 2. -2.]\n",
      "-----\n",
      "2 \t 0.96 \t\t -3.84 \t [-1.12017033  1.22534503] \t [-0.77871982  0.35471495]\n",
      "-----\n",
      "3 \t -0.17 \t\t -3.84 \t [-1.58198309 -0.83750481] \t [ 1.09820703 -1.57845463]\n",
      "-----\n",
      "4 \t -1.68 \t\t -3.84 \t [-0.39977041 -1.34091692] \t [ 0.05611992 -0.33201386]\n"
     ]
    }
   ],
   "source": [
    "w = 0.729    # inertia\n",
    "c1 = 1.49445 # cognitive (particle)\n",
    "c2 = 1.49445 # social (swarm)\n",
    "\n",
    "func = peaks\n",
    "\n",
    "low_values = [-2, -2]\n",
    "high_values = [2, 2]\n",
    "n_pop = 5\n",
    "max_epochs = 3\n",
    "\n",
    "\n",
    "population = np.random.uniform(low=low_values, high=high_values, size=(n_pop, len(low_values)))\n",
    "pop_velocity = np.random.uniform(low=low_values, high=high_values, size=(n_pop, len(low_values)))\n",
    "\n",
    "print(\"Inicial population:\\n\\n\", population)\n",
    "\n",
    "epoch = 1\n",
    "best_fit = np.inf\n",
    "best_position = np.empty(population.shape)\n",
    "\n",
    "while(epoch <= max_epochs): \n",
    "    print(\"\\n#########################\\nepoch:\", epoch)\n",
    "    print(\"\\ni\\tfit solution\\tbest fit\\t\\tpositon\\t\\tvelocity\")\n",
    "    for i, particle in enumerate(population):\n",
    "        velocity = pop_velocity[i]\n",
    "\n",
    "        # Evaluate solution\n",
    "        fit_solution = func(particle)\n",
    "        if(fit_solution < best_fit): \n",
    "            best_fit = fit_solution.copy()\n",
    "            best_position = particle.copy()\n",
    "        print(\"-----\")\n",
    "        print(i, \"\\t\",fit_solution.round(2), \"\\t\\t\",best_fit.round(2), \"\\t\", particle, \"\\t\",velocity)\n",
    "\n",
    "\n",
    "        # Update velocity and particle position\n",
    "        for k, vi in enumerate(velocity):\n",
    "            r1 = np.random.rand()\n",
    "            r2 = np.random.rand()\n",
    "            velocity[k] = ((w * vi) + (c1 * r1 * (best_position[k] - particle[k])) + (c2 * r2 * (best_position[k] - particle[k]))) \n",
    "\n",
    "            # Checking boundaries\n",
    "            if(velocity[k] < low_values[k]):\n",
    "                velocity[k] = low_values[k]\n",
    "\n",
    "            elif (velocity[k] > high_values[k]):\n",
    "                velocity[k] = high_values[k]\n",
    "\n",
    "            particle[k] += velocity[k] \n",
    "    epoch+=1"
   ]
  },
  {
   "cell_type": "markdown",
   "metadata": {},
   "source": [
    "## Função final: `particle_swarm_optimization`"
   ]
  },
  {
   "cell_type": "code",
   "execution_count": 5,
   "metadata": {},
   "outputs": [],
   "source": [
    "def particle_swarm_optimization(params: dict, func) ->dict:\n",
    "    '''\n",
    "    Optimize a function defined by argument func using the Particle Swarm Optimization (PSO) method\n",
    "\n",
    "            Parameters:\n",
    "                    params (dict): A dictionary containing the entry parameters\n",
    "                    func (function): Function to be optimized\n",
    "\n",
    "            Returns:\n",
    "                    pso_object (dict): A dictionary containg the final solution and the log of the mean and best fit during epochs\n",
    "    '''\n",
    "    w = 0.729    # inertia\n",
    "    c1 = 1.49445 # cognitive (particle)\n",
    "    c2 = 1.49445 # social (swarm)\n",
    "    # parameters source: https://youtu.be/bVDX_UwthZI\n",
    "\n",
    "    low_values = params['low_values']\n",
    "    high_values = params['high_values']\n",
    "    n_pop = params['n_pop']\n",
    "    max_epochs = params['max_epochs']\n",
    "\n",
    "    epoch = 0\n",
    "    best_fit = np.inf\n",
    "    best_position = np.empty(len(low_values))\n",
    "    \n",
    "    log_mean_fit = np.zeros(max_epochs)\n",
    "    log_best_fit = np.zeros(max_epochs)\n",
    "    \n",
    "    # Initialize swarm population\n",
    "    population = np.random.uniform(low=low_values, high=high_values, size=(n_pop, len(low_values)))\n",
    "    pop_velocity = np.random.uniform(low=low_values, high=high_values, size=(n_pop, len(low_values)))\n",
    "\n",
    "    while(epoch < max_epochs): \n",
    "        for i, particle in enumerate(population):\n",
    "            velocity = pop_velocity[i]\n",
    "\n",
    "            # Evaluate solution and global best\n",
    "            fit_solution = func(particle)\n",
    "            if(fit_solution < best_fit): \n",
    "                best_fit = fit_solution.copy()\n",
    "                best_position = particle.copy()\n",
    "\n",
    "            # Update velocity and particle position on each dimension\n",
    "            for k, vi in enumerate(velocity):\n",
    "                r1 = np.random.rand()\n",
    "                r2 = np.random.rand()\n",
    "                velocity[k] = ((w * vi) + (c1 * r1 * (best_position[k] - particle[k])) \n",
    "                               + (c2 * r2 * (best_position[k] - particle[k]))) \n",
    "\n",
    "                # Checking boundaries\n",
    "                if(velocity[k] < low_values[k]): velocity[k] = low_values[k]\n",
    "                elif (velocity[k] > high_values[k]): velocity[k] = high_values[k]\n",
    "                \n",
    "                # Updating position\n",
    "                particle[k] += velocity[k] \n",
    "            \n",
    "            # Update mean fit value\n",
    "            log_mean_fit[epoch] += fit_solution\n",
    "        \n",
    "        # Saving fit values for plot\n",
    "        log_mean_fit[epoch] = log_mean_fit[epoch]/len(population)\n",
    "        log_best_fit[epoch] = best_fit\n",
    "        epoch+=1\n",
    "    \n",
    "    pso_object = dict({\n",
    "        'best_fit': best_fit,\n",
    "        'solution': best_position,\n",
    "        'log_mean_fit': log_mean_fit,\n",
    "        'log_best_fit': log_best_fit\n",
    "        })\n",
    "    \n",
    "    return pso_object"
   ]
  },
  {
   "cell_type": "markdown",
   "metadata": {},
   "source": [
    "**Função para mostrar resultados**"
   ]
  },
  {
   "cell_type": "code",
   "execution_count": 6,
   "metadata": {},
   "outputs": [],
   "source": [
    "def show_result(result):\n",
    "    min_fit, mean_fit = result['log_best_fit'], result['log_mean_fit']\n",
    "\n",
    "    plt.subplots(figsize=(15,4)), plt.title('Fit over epochs')\n",
    "\n",
    "    plt.plot(min_fit, label='best fit')\n",
    "    plt.plot(mean_fit, label='mean fit')\n",
    "\n",
    "    plt.ylabel('Fit'), plt.xlabel('Epochs'), plt.legend()\n",
    "    plt.show()\n",
    "    \n",
    "    print('\\n\\t\\tFinal Solution:', result['solution'].round(3), '\\tfit:',result['best_fit'].round(3))"
   ]
  },
  {
   "cell_type": "markdown",
   "metadata": {},
   "source": [
    "---\n",
    "## Função peaks"
   ]
  },
  {
   "cell_type": "code",
   "execution_count": 7,
   "metadata": {},
   "outputs": [
    {
     "data": {
      "image/png": "[encoded data removed]",
      "text/plain": [
       "<Figure size 1080x288 with 1 Axes>"
      ]
     },
     "metadata": {
      "needs_background": "light"
     },
     "output_type": "display_data"
    },
    {
     "name": "stdout",
     "output_type": "stream",
     "text": [
      "\n",
      "\t\tFinal Solution: [ 0.228 -1.626] \tfit: -6.551\n"
     ]
    }
   ],
   "source": [
    "params = dict({\n",
    "    'low_values': [-3, -3],\n",
    "    'high_values': [3, 3],\n",
    "    'n_pop' : 50,\n",
    "    'max_epochs' : 80\n",
    "    })\n",
    "\n",
    "pso_object = particle_swarm_optimization(params, peaks)\n",
    "show_result(pso_object)"
   ]
  },
  {
   "cell_type": "markdown",
   "metadata": {},
   "source": [
    "---\n",
    "## Função rastrigin"
   ]
  },
  {
   "cell_type": "code",
   "execution_count": 8,
   "metadata": {},
   "outputs": [
    {
     "data": {
      "image/png": "[encoded data removed]",
      "text/plain": [
       "<Figure size 1080x288 with 1 Axes>"
      ]
     },
     "metadata": {
      "needs_background": "light"
     },
     "output_type": "display_data"
    },
    {
     "name": "stdout",
     "output_type": "stream",
     "text": [
      "\n",
      "\t\tFinal Solution: [-0.  0.] \tfit: -20.0\n"
     ]
    }
   ],
   "source": [
    "params = dict({\n",
    "    'low_values': [-2, -2],\n",
    "    'high_values': [2, 2],\n",
    "    'n_pop' : 50,\n",
    "    'max_epochs' : 80\n",
    "    })\n",
    "\n",
    "pso_object = particle_swarm_optimization(params, rastrigin)\n",
    "show_result(pso_object)"
   ]
  }
 ],
 "metadata": {
  "kernelspec": {
   "display_name": "Python 3",
   "language": "python",
   "name": "python3"
  },
  "language_info": {
   "codemirror_mode": {
    "name": "ipython",
    "version": 3
   },
   "file_extension": ".py",
   "mimetype": "text/x-python",
   "name": "python",
   "nbconvert_exporter": "python",
   "pygments_lexer": "ipython3",
   "version": "3.7.7"
  },
  "latex_envs": {
   "LaTeX_envs_menu_present": true,
   "autoclose": false,
   "autocomplete": true,
   "bibliofile": "biblio.bib",
   "cite_by": "apalike",
   "current_citInitial": 1,
   "eqLabelWithNumbers": true,
   "eqNumInitial": 1,
   "hotkeys": {
    "equation": "Ctrl-E",
    "itemize": "Ctrl-I"
   },
   "labels_anchors": false,
   "latex_user_defs": false,
   "report_style_numbering": false,
   "user_envs_cfg": false
  },
  "toc": {
   "base_numbering": 1,
   "nav_menu": {},
   "number_sections": true,
   "sideBar": true,
   "skip_h1_title": true,
   "title_cell": "Sumário",
   "title_sidebar": "Navegação",
   "toc_cell": true,
   "toc_position": {},
   "toc_section_display": true,
   "toc_window_display": false
  }
 },
 "nbformat": 4,
 "nbformat_minor": 4
}
